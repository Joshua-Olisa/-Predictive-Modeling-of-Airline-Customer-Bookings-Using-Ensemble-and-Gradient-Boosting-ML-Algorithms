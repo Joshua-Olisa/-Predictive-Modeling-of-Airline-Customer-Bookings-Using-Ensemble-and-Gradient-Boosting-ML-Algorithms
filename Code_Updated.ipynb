{
 "cells": [
  {
   "cell_type": "markdown",
   "metadata": {},
   "source": [
    "# Task 2\n",
    "\n",
    "---\n",
    "\n",
    "## Predictive modeling of customer bookings\n",
    "\n",
    "This Jupyter notebook includes some code to get you started with this predictive modeling task. We will use various packages for data manipulation, feature engineering and machine learning.\n",
    "\n"
   ]
  },
  {
   "cell_type": "markdown",
   "metadata": {},
   "source": [
    "### Exploratory data analysis\n",
    "\n",
    "First, we must explore the data in order to better understand what we have and the statistical properties of the dataset."
   ]
  },
  {
   "cell_type": "code",
   "execution_count": 10,
   "metadata": {},
   "outputs": [],
   "source": [
    "import pandas as pd"
   ]
  },
  {
   "cell_type": "code",
   "execution_count": null,
   "metadata": {},
   "outputs": [
    {
     "data": {
      "text/html": [
       "<div>\n",
       "<style scoped>\n",
       "    .dataframe tbody tr th:only-of-type {\n",
       "        vertical-align: middle;\n",
       "    }\n",
       "\n",
       "    .dataframe tbody tr th {\n",
       "        vertical-align: top;\n",
       "    }\n",
       "\n",
       "    .dataframe thead th {\n",
       "        text-align: right;\n",
       "    }\n",
       "</style>\n",
       "<table border=\"1\" class=\"dataframe\">\n",
       "  <thead>\n",
       "    <tr style=\"text-align: right;\">\n",
       "      <th></th>\n",
       "      <th>num_passengers</th>\n",
       "      <th>sales_channel</th>\n",
       "      <th>trip_type</th>\n",
       "      <th>purchase_lead</th>\n",
       "      <th>length_of_stay</th>\n",
       "      <th>flight_hour</th>\n",
       "      <th>flight_day</th>\n",
       "      <th>route</th>\n",
       "      <th>booking_origin</th>\n",
       "      <th>wants_extra_baggage</th>\n",
       "      <th>wants_preferred_seat</th>\n",
       "      <th>wants_in_flight_meals</th>\n",
       "      <th>flight_duration</th>\n",
       "      <th>booking_complete</th>\n",
       "    </tr>\n",
       "  </thead>\n",
       "  <tbody>\n",
       "    <tr>\n",
       "      <th>0</th>\n",
       "      <td>2</td>\n",
       "      <td>Internet</td>\n",
       "      <td>RoundTrip</td>\n",
       "      <td>262</td>\n",
       "      <td>19</td>\n",
       "      <td>7</td>\n",
       "      <td>Sat</td>\n",
       "      <td>AKLDEL</td>\n",
       "      <td>New Zealand</td>\n",
       "      <td>1</td>\n",
       "      <td>0</td>\n",
       "      <td>0</td>\n",
       "      <td>5.52</td>\n",
       "      <td>0</td>\n",
       "    </tr>\n",
       "    <tr>\n",
       "      <th>1</th>\n",
       "      <td>1</td>\n",
       "      <td>Internet</td>\n",
       "      <td>RoundTrip</td>\n",
       "      <td>112</td>\n",
       "      <td>20</td>\n",
       "      <td>3</td>\n",
       "      <td>Sat</td>\n",
       "      <td>AKLDEL</td>\n",
       "      <td>New Zealand</td>\n",
       "      <td>0</td>\n",
       "      <td>0</td>\n",
       "      <td>0</td>\n",
       "      <td>5.52</td>\n",
       "      <td>0</td>\n",
       "    </tr>\n",
       "    <tr>\n",
       "      <th>2</th>\n",
       "      <td>2</td>\n",
       "      <td>Internet</td>\n",
       "      <td>RoundTrip</td>\n",
       "      <td>243</td>\n",
       "      <td>22</td>\n",
       "      <td>17</td>\n",
       "      <td>Wed</td>\n",
       "      <td>AKLDEL</td>\n",
       "      <td>India</td>\n",
       "      <td>1</td>\n",
       "      <td>1</td>\n",
       "      <td>0</td>\n",
       "      <td>5.52</td>\n",
       "      <td>0</td>\n",
       "    </tr>\n",
       "    <tr>\n",
       "      <th>3</th>\n",
       "      <td>1</td>\n",
       "      <td>Internet</td>\n",
       "      <td>RoundTrip</td>\n",
       "      <td>96</td>\n",
       "      <td>31</td>\n",
       "      <td>4</td>\n",
       "      <td>Sat</td>\n",
       "      <td>AKLDEL</td>\n",
       "      <td>New Zealand</td>\n",
       "      <td>0</td>\n",
       "      <td>0</td>\n",
       "      <td>1</td>\n",
       "      <td>5.52</td>\n",
       "      <td>0</td>\n",
       "    </tr>\n",
       "    <tr>\n",
       "      <th>4</th>\n",
       "      <td>2</td>\n",
       "      <td>Internet</td>\n",
       "      <td>RoundTrip</td>\n",
       "      <td>68</td>\n",
       "      <td>22</td>\n",
       "      <td>15</td>\n",
       "      <td>Wed</td>\n",
       "      <td>AKLDEL</td>\n",
       "      <td>India</td>\n",
       "      <td>1</td>\n",
       "      <td>0</td>\n",
       "      <td>1</td>\n",
       "      <td>5.52</td>\n",
       "      <td>0</td>\n",
       "    </tr>\n",
       "  </tbody>\n",
       "</table>\n",
       "</div>"
      ],
      "text/plain": [
       "   num_passengers sales_channel  trip_type  purchase_lead  length_of_stay  \\\n",
       "0               2      Internet  RoundTrip            262              19   \n",
       "1               1      Internet  RoundTrip            112              20   \n",
       "2               2      Internet  RoundTrip            243              22   \n",
       "3               1      Internet  RoundTrip             96              31   \n",
       "4               2      Internet  RoundTrip             68              22   \n",
       "\n",
       "   flight_hour flight_day   route booking_origin  wants_extra_baggage  \\\n",
       "0            7        Sat  AKLDEL    New Zealand                    1   \n",
       "1            3        Sat  AKLDEL    New Zealand                    0   \n",
       "2           17        Wed  AKLDEL          India                    1   \n",
       "3            4        Sat  AKLDEL    New Zealand                    0   \n",
       "4           15        Wed  AKLDEL          India                    1   \n",
       "\n",
       "   wants_preferred_seat  wants_in_flight_meals  flight_duration  \\\n",
       "0                     0                      0             5.52   \n",
       "1                     0                      0             5.52   \n",
       "2                     1                      0             5.52   \n",
       "3                     0                      1             5.52   \n",
       "4                     0                      1             5.52   \n",
       "\n",
       "   booking_complete  \n",
       "0                 0  \n",
       "1                 0  \n",
       "2                 0  \n",
       "3                 0  \n",
       "4                 0  "
      ]
     },
     "execution_count": 11,
     "metadata": {},
     "output_type": "execute_result"
    }
   ],
   "source": [
    "# customer_booking = pd.read_csv(r\"C:\\Users\\jolis\\Documents\\Cert\\British Airways\\customer_booking.csv\", encoding=\"ISO-8859-1\")\n",
    "customer_booking = pd.read_csv(r\"E:\\British Airways_Main\\customer_booking.csv\", encoding=\"ISO-8859-1\")\n",
    "# customer_booking = pd.read_csv(r\"D:\\British Airways_Main\\customer_booking.csv\", encoding=\"ISO-8859-1\")\n",
    "customer_booking.head()"
   ]
  },
  {
   "cell_type": "markdown",
   "metadata": {},
   "source": [
    "The `.head()` method allows us to view the first 5 rows in the dataset, this is useful for visual inspection of our columns"
   ]
  },
  {
   "cell_type": "code",
   "execution_count": 12,
   "metadata": {},
   "outputs": [
    {
     "name": "stdout",
     "output_type": "stream",
     "text": [
      "<class 'pandas.core.frame.DataFrame'>\n",
      "RangeIndex: 50000 entries, 0 to 49999\n",
      "Data columns (total 14 columns):\n",
      " #   Column                 Non-Null Count  Dtype  \n",
      "---  ------                 --------------  -----  \n",
      " 0   num_passengers         50000 non-null  int64  \n",
      " 1   sales_channel          50000 non-null  object \n",
      " 2   trip_type              50000 non-null  object \n",
      " 3   purchase_lead          50000 non-null  int64  \n",
      " 4   length_of_stay         50000 non-null  int64  \n",
      " 5   flight_hour            50000 non-null  int64  \n",
      " 6   flight_day             50000 non-null  object \n",
      " 7   route                  50000 non-null  object \n",
      " 8   booking_origin         50000 non-null  object \n",
      " 9   wants_extra_baggage    50000 non-null  int64  \n",
      " 10  wants_preferred_seat   50000 non-null  int64  \n",
      " 11  wants_in_flight_meals  50000 non-null  int64  \n",
      " 12  flight_duration        50000 non-null  float64\n",
      " 13  booking_complete       50000 non-null  int64  \n",
      "dtypes: float64(1), int64(8), object(5)\n",
      "memory usage: 5.3+ MB\n"
     ]
    }
   ],
   "source": [
    "customer_booking.info()"
   ]
  },
  {
   "cell_type": "markdown",
   "metadata": {},
   "source": [
    "The `.info()` method gives us a data description, telling us the names of the columns, their data types and how many null values we have. Fortunately, we have no null values. It looks like some of these columns should be converted into different data types, e.g. flight_day.\n",
    "\n",
    "To provide more context, below is a more detailed data description, explaining exactly what each column means:\n",
    "\n",
    "- `num_passengers` = number of passengers travelling\n",
    "- `sales_channel` = sales channel booking was made on\n",
    "- `trip_type` = trip Type (Round Trip, One Way, Circle Trip)\n",
    "- `purchase_lead` = number of days between travel date and booking date\n",
    "- `length_of_stay` = number of days spent at destination\n",
    "- `flight_hour` = hour of flight departure\n",
    "- `flight_day` = day of week of flight departure\n",
    "- `route` = origin -> destination flight route\n",
    "- `booking_origin` = country from where booking was made\n",
    "- `wants_extra_baggage` = if the customer wanted extra baggage in the booking\n",
    "- `wants_preferred_seat` = if the customer wanted a preferred seat in the booking\n",
    "- `wants_in_flight_meals` = if the customer wanted in-flight meals in the booking\n",
    "- `flight_duration` = total duration of flight (in hours)\n",
    "- `booking_complete` = flag indicating if the customer completed the booking\n",
    "\n",
    "Before we compute any statistics on the data, lets do any necessary data conversion"
   ]
  },
  {
   "cell_type": "code",
   "execution_count": 13,
   "metadata": {},
   "outputs": [],
   "source": [
    "# Split route into origin and destination\n",
    "customer_booking['origin'] = customer_booking['route'].str[:3]\n",
    "customer_booking['destination'] = customer_booking['route'].str[3:]\n",
    "\n",
    "# Drop original route column\n",
    "customer_booking = customer_booking.drop('route', axis=1)"
   ]
  },
  {
   "cell_type": "code",
   "execution_count": 14,
   "metadata": {},
   "outputs": [
    {
     "data": {
      "text/plain": [
       "array(['Sat', 'Wed', 'Thu', 'Mon', 'Sun', 'Tue', 'Fri'], dtype=object)"
      ]
     },
     "execution_count": 14,
     "metadata": {},
     "output_type": "execute_result"
    }
   ],
   "source": [
    "customer_booking[\"flight_day\"].unique()"
   ]
  },
  {
   "cell_type": "code",
   "execution_count": 15,
   "metadata": {},
   "outputs": [],
   "source": [
    "mapping = {\n",
    "    \"Mon\": 1,\n",
    "    \"Tue\": 2,\n",
    "    \"Wed\": 3,\n",
    "    \"Thu\": 4,\n",
    "    \"Fri\": 5,\n",
    "    \"Sat\": 6,\n",
    "    \"Sun\": 7,\n",
    "}\n",
    "    \n",
    "customer_booking[\"flight_day\"] = customer_booking[\"flight_day\"].map(mapping)"
   ]
  },
  {
   "cell_type": "code",
   "execution_count": 16,
   "metadata": {},
   "outputs": [
    {
     "data": {
      "text/plain": [
       "array([6, 3, 4, 1, 7, 2, 5], dtype=int64)"
      ]
     },
     "execution_count": 16,
     "metadata": {},
     "output_type": "execute_result"
    }
   ],
   "source": [
    "customer_booking[\"flight_day\"].unique()"
   ]
  },
  {
   "cell_type": "code",
   "execution_count": 17,
   "metadata": {},
   "outputs": [
    {
     "data": {
      "text/html": [
       "<div>\n",
       "<style scoped>\n",
       "    .dataframe tbody tr th:only-of-type {\n",
       "        vertical-align: middle;\n",
       "    }\n",
       "\n",
       "    .dataframe tbody tr th {\n",
       "        vertical-align: top;\n",
       "    }\n",
       "\n",
       "    .dataframe thead th {\n",
       "        text-align: right;\n",
       "    }\n",
       "</style>\n",
       "<table border=\"1\" class=\"dataframe\">\n",
       "  <thead>\n",
       "    <tr style=\"text-align: right;\">\n",
       "      <th></th>\n",
       "      <th>num_passengers</th>\n",
       "      <th>purchase_lead</th>\n",
       "      <th>length_of_stay</th>\n",
       "      <th>flight_hour</th>\n",
       "      <th>flight_day</th>\n",
       "      <th>wants_extra_baggage</th>\n",
       "      <th>wants_preferred_seat</th>\n",
       "      <th>wants_in_flight_meals</th>\n",
       "      <th>flight_duration</th>\n",
       "      <th>booking_complete</th>\n",
       "    </tr>\n",
       "  </thead>\n",
       "  <tbody>\n",
       "    <tr>\n",
       "      <th>count</th>\n",
       "      <td>50000.000000</td>\n",
       "      <td>50000.000000</td>\n",
       "      <td>50000.00000</td>\n",
       "      <td>50000.00000</td>\n",
       "      <td>50000.000000</td>\n",
       "      <td>50000.000000</td>\n",
       "      <td>50000.000000</td>\n",
       "      <td>50000.000000</td>\n",
       "      <td>50000.000000</td>\n",
       "      <td>50000.000000</td>\n",
       "    </tr>\n",
       "    <tr>\n",
       "      <th>mean</th>\n",
       "      <td>1.591240</td>\n",
       "      <td>84.940480</td>\n",
       "      <td>23.04456</td>\n",
       "      <td>9.06634</td>\n",
       "      <td>3.814420</td>\n",
       "      <td>0.668780</td>\n",
       "      <td>0.296960</td>\n",
       "      <td>0.427140</td>\n",
       "      <td>7.277561</td>\n",
       "      <td>0.149560</td>\n",
       "    </tr>\n",
       "    <tr>\n",
       "      <th>std</th>\n",
       "      <td>1.020165</td>\n",
       "      <td>90.451378</td>\n",
       "      <td>33.88767</td>\n",
       "      <td>5.41266</td>\n",
       "      <td>1.992792</td>\n",
       "      <td>0.470657</td>\n",
       "      <td>0.456923</td>\n",
       "      <td>0.494668</td>\n",
       "      <td>1.496863</td>\n",
       "      <td>0.356643</td>\n",
       "    </tr>\n",
       "    <tr>\n",
       "      <th>min</th>\n",
       "      <td>1.000000</td>\n",
       "      <td>0.000000</td>\n",
       "      <td>0.00000</td>\n",
       "      <td>0.00000</td>\n",
       "      <td>1.000000</td>\n",
       "      <td>0.000000</td>\n",
       "      <td>0.000000</td>\n",
       "      <td>0.000000</td>\n",
       "      <td>4.670000</td>\n",
       "      <td>0.000000</td>\n",
       "    </tr>\n",
       "    <tr>\n",
       "      <th>25%</th>\n",
       "      <td>1.000000</td>\n",
       "      <td>21.000000</td>\n",
       "      <td>5.00000</td>\n",
       "      <td>5.00000</td>\n",
       "      <td>2.000000</td>\n",
       "      <td>0.000000</td>\n",
       "      <td>0.000000</td>\n",
       "      <td>0.000000</td>\n",
       "      <td>5.620000</td>\n",
       "      <td>0.000000</td>\n",
       "    </tr>\n",
       "    <tr>\n",
       "      <th>50%</th>\n",
       "      <td>1.000000</td>\n",
       "      <td>51.000000</td>\n",
       "      <td>17.00000</td>\n",
       "      <td>9.00000</td>\n",
       "      <td>4.000000</td>\n",
       "      <td>1.000000</td>\n",
       "      <td>0.000000</td>\n",
       "      <td>0.000000</td>\n",
       "      <td>7.570000</td>\n",
       "      <td>0.000000</td>\n",
       "    </tr>\n",
       "    <tr>\n",
       "      <th>75%</th>\n",
       "      <td>2.000000</td>\n",
       "      <td>115.000000</td>\n",
       "      <td>28.00000</td>\n",
       "      <td>13.00000</td>\n",
       "      <td>5.000000</td>\n",
       "      <td>1.000000</td>\n",
       "      <td>1.000000</td>\n",
       "      <td>1.000000</td>\n",
       "      <td>8.830000</td>\n",
       "      <td>0.000000</td>\n",
       "    </tr>\n",
       "    <tr>\n",
       "      <th>max</th>\n",
       "      <td>9.000000</td>\n",
       "      <td>867.000000</td>\n",
       "      <td>778.00000</td>\n",
       "      <td>23.00000</td>\n",
       "      <td>7.000000</td>\n",
       "      <td>1.000000</td>\n",
       "      <td>1.000000</td>\n",
       "      <td>1.000000</td>\n",
       "      <td>9.500000</td>\n",
       "      <td>1.000000</td>\n",
       "    </tr>\n",
       "  </tbody>\n",
       "</table>\n",
       "</div>"
      ],
      "text/plain": [
       "       num_passengers  purchase_lead  length_of_stay  flight_hour  \\\n",
       "count    50000.000000   50000.000000     50000.00000  50000.00000   \n",
       "mean         1.591240      84.940480        23.04456      9.06634   \n",
       "std          1.020165      90.451378        33.88767      5.41266   \n",
       "min          1.000000       0.000000         0.00000      0.00000   \n",
       "25%          1.000000      21.000000         5.00000      5.00000   \n",
       "50%          1.000000      51.000000        17.00000      9.00000   \n",
       "75%          2.000000     115.000000        28.00000     13.00000   \n",
       "max          9.000000     867.000000       778.00000     23.00000   \n",
       "\n",
       "         flight_day  wants_extra_baggage  wants_preferred_seat  \\\n",
       "count  50000.000000         50000.000000          50000.000000   \n",
       "mean       3.814420             0.668780              0.296960   \n",
       "std        1.992792             0.470657              0.456923   \n",
       "min        1.000000             0.000000              0.000000   \n",
       "25%        2.000000             0.000000              0.000000   \n",
       "50%        4.000000             1.000000              0.000000   \n",
       "75%        5.000000             1.000000              1.000000   \n",
       "max        7.000000             1.000000              1.000000   \n",
       "\n",
       "       wants_in_flight_meals  flight_duration  booking_complete  \n",
       "count           50000.000000     50000.000000      50000.000000  \n",
       "mean                0.427140         7.277561          0.149560  \n",
       "std                 0.494668         1.496863          0.356643  \n",
       "min                 0.000000         4.670000          0.000000  \n",
       "25%                 0.000000         5.620000          0.000000  \n",
       "50%                 0.000000         7.570000          0.000000  \n",
       "75%                 1.000000         8.830000          0.000000  \n",
       "max                 1.000000         9.500000          1.000000  "
      ]
     },
     "execution_count": 17,
     "metadata": {},
     "output_type": "execute_result"
    }
   ],
   "source": [
    "customer_booking.describe()"
   ]
  },
  {
   "cell_type": "markdown",
   "metadata": {},
   "source": [
    "The `.describe()` method gives us a summary of descriptive statistics over the entire dataset (only works for numeric columns). This gives us a quick overview of a few things such as the mean, min, max and overall distribution of each column.\n",
    "\n",
    "From this point, you should continue exploring the dataset with some visualisations and other metrics that you think may be useful. Then, you should prepare your dataset for predictive modelling. Finally, you should train your machine learning model, evaluate it with performance metrics and output visualisations for the contributing variables. All of this analysis should be summarised in your single slide."
   ]
  },
  {
   "cell_type": "markdown",
   "metadata": {},
   "source": [
    "### Encoding"
   ]
  },
  {
   "cell_type": "markdown",
   "metadata": {},
   "source": [
    "Encoding refers to the process of transforming categorical data (data that represents categories or groups) into a numerical format that machine learning models can understand and use."
   ]
  },
  {
   "cell_type": "markdown",
   "metadata": {},
   "source": [
    "#### One-Hot Encoding"
   ]
  },
  {
   "cell_type": "markdown",
   "metadata": {},
   "source": [
    "One-Hot Encoding converts categorical data into a binary format, where each category is represented by a new column. A value of 1 indicates the presence of that category, while 0 indicates its absence."
   ]
  },
  {
   "cell_type": "code",
   "execution_count": 18,
   "metadata": {},
   "outputs": [],
   "source": [
    "from sklearn.preprocessing import OneHotEncoder"
   ]
  },
  {
   "cell_type": "code",
   "execution_count": 19,
   "metadata": {},
   "outputs": [],
   "source": [
    "# One-hot encoding categorical variables\n",
    "categorical_cols = ['sales_channel', 'trip_type']\n",
    "\n",
    "# Initialize OneHotEncoder\n",
    "encoder = OneHotEncoder(sparse_output=False, handle_unknown='ignore')\n",
    "\n",
    "# Fit and transform the categorical columns\n",
    "one_hot_encoded = encoder.fit_transform(customer_booking[categorical_cols])\n",
    "one_hot_df = pd.DataFrame(one_hot_encoded, columns=encoder.get_feature_names_out(categorical_cols))\n",
    "\n",
    "# Concatenate the one-hot encoded columns with the original DataFrame (drop original categoricals)\n",
    "customer_booking_encoded = pd.concat([customer_booking.drop(columns=categorical_cols), one_hot_df], axis=1)"
   ]
  },
  {
   "cell_type": "code",
   "execution_count": 20,
   "metadata": {},
   "outputs": [
    {
     "data": {
      "text/html": [
       "<div>\n",
       "<style scoped>\n",
       "    .dataframe tbody tr th:only-of-type {\n",
       "        vertical-align: middle;\n",
       "    }\n",
       "\n",
       "    .dataframe tbody tr th {\n",
       "        vertical-align: top;\n",
       "    }\n",
       "\n",
       "    .dataframe thead th {\n",
       "        text-align: right;\n",
       "    }\n",
       "</style>\n",
       "<table border=\"1\" class=\"dataframe\">\n",
       "  <thead>\n",
       "    <tr style=\"text-align: right;\">\n",
       "      <th></th>\n",
       "      <th>num_passengers</th>\n",
       "      <th>purchase_lead</th>\n",
       "      <th>length_of_stay</th>\n",
       "      <th>flight_hour</th>\n",
       "      <th>flight_day</th>\n",
       "      <th>booking_origin</th>\n",
       "      <th>wants_extra_baggage</th>\n",
       "      <th>wants_preferred_seat</th>\n",
       "      <th>wants_in_flight_meals</th>\n",
       "      <th>flight_duration</th>\n",
       "      <th>booking_complete</th>\n",
       "      <th>origin</th>\n",
       "      <th>destination</th>\n",
       "      <th>sales_channel_Internet</th>\n",
       "      <th>sales_channel_Mobile</th>\n",
       "      <th>trip_type_CircleTrip</th>\n",
       "      <th>trip_type_OneWay</th>\n",
       "      <th>trip_type_RoundTrip</th>\n",
       "    </tr>\n",
       "  </thead>\n",
       "  <tbody>\n",
       "    <tr>\n",
       "      <th>0</th>\n",
       "      <td>2</td>\n",
       "      <td>262</td>\n",
       "      <td>19</td>\n",
       "      <td>7</td>\n",
       "      <td>6</td>\n",
       "      <td>New Zealand</td>\n",
       "      <td>1</td>\n",
       "      <td>0</td>\n",
       "      <td>0</td>\n",
       "      <td>5.52</td>\n",
       "      <td>0</td>\n",
       "      <td>AKL</td>\n",
       "      <td>DEL</td>\n",
       "      <td>1.0</td>\n",
       "      <td>0.0</td>\n",
       "      <td>0.0</td>\n",
       "      <td>0.0</td>\n",
       "      <td>1.0</td>\n",
       "    </tr>\n",
       "    <tr>\n",
       "      <th>1</th>\n",
       "      <td>1</td>\n",
       "      <td>112</td>\n",
       "      <td>20</td>\n",
       "      <td>3</td>\n",
       "      <td>6</td>\n",
       "      <td>New Zealand</td>\n",
       "      <td>0</td>\n",
       "      <td>0</td>\n",
       "      <td>0</td>\n",
       "      <td>5.52</td>\n",
       "      <td>0</td>\n",
       "      <td>AKL</td>\n",
       "      <td>DEL</td>\n",
       "      <td>1.0</td>\n",
       "      <td>0.0</td>\n",
       "      <td>0.0</td>\n",
       "      <td>0.0</td>\n",
       "      <td>1.0</td>\n",
       "    </tr>\n",
       "    <tr>\n",
       "      <th>2</th>\n",
       "      <td>2</td>\n",
       "      <td>243</td>\n",
       "      <td>22</td>\n",
       "      <td>17</td>\n",
       "      <td>3</td>\n",
       "      <td>India</td>\n",
       "      <td>1</td>\n",
       "      <td>1</td>\n",
       "      <td>0</td>\n",
       "      <td>5.52</td>\n",
       "      <td>0</td>\n",
       "      <td>AKL</td>\n",
       "      <td>DEL</td>\n",
       "      <td>1.0</td>\n",
       "      <td>0.0</td>\n",
       "      <td>0.0</td>\n",
       "      <td>0.0</td>\n",
       "      <td>1.0</td>\n",
       "    </tr>\n",
       "    <tr>\n",
       "      <th>3</th>\n",
       "      <td>1</td>\n",
       "      <td>96</td>\n",
       "      <td>31</td>\n",
       "      <td>4</td>\n",
       "      <td>6</td>\n",
       "      <td>New Zealand</td>\n",
       "      <td>0</td>\n",
       "      <td>0</td>\n",
       "      <td>1</td>\n",
       "      <td>5.52</td>\n",
       "      <td>0</td>\n",
       "      <td>AKL</td>\n",
       "      <td>DEL</td>\n",
       "      <td>1.0</td>\n",
       "      <td>0.0</td>\n",
       "      <td>0.0</td>\n",
       "      <td>0.0</td>\n",
       "      <td>1.0</td>\n",
       "    </tr>\n",
       "    <tr>\n",
       "      <th>4</th>\n",
       "      <td>2</td>\n",
       "      <td>68</td>\n",
       "      <td>22</td>\n",
       "      <td>15</td>\n",
       "      <td>3</td>\n",
       "      <td>India</td>\n",
       "      <td>1</td>\n",
       "      <td>0</td>\n",
       "      <td>1</td>\n",
       "      <td>5.52</td>\n",
       "      <td>0</td>\n",
       "      <td>AKL</td>\n",
       "      <td>DEL</td>\n",
       "      <td>1.0</td>\n",
       "      <td>0.0</td>\n",
       "      <td>0.0</td>\n",
       "      <td>0.0</td>\n",
       "      <td>1.0</td>\n",
       "    </tr>\n",
       "  </tbody>\n",
       "</table>\n",
       "</div>"
      ],
      "text/plain": [
       "   num_passengers  purchase_lead  length_of_stay  flight_hour  flight_day  \\\n",
       "0               2            262              19            7           6   \n",
       "1               1            112              20            3           6   \n",
       "2               2            243              22           17           3   \n",
       "3               1             96              31            4           6   \n",
       "4               2             68              22           15           3   \n",
       "\n",
       "  booking_origin  wants_extra_baggage  wants_preferred_seat  \\\n",
       "0    New Zealand                    1                     0   \n",
       "1    New Zealand                    0                     0   \n",
       "2          India                    1                     1   \n",
       "3    New Zealand                    0                     0   \n",
       "4          India                    1                     0   \n",
       "\n",
       "   wants_in_flight_meals  flight_duration  booking_complete origin  \\\n",
       "0                      0             5.52                 0    AKL   \n",
       "1                      0             5.52                 0    AKL   \n",
       "2                      0             5.52                 0    AKL   \n",
       "3                      1             5.52                 0    AKL   \n",
       "4                      1             5.52                 0    AKL   \n",
       "\n",
       "  destination  sales_channel_Internet  sales_channel_Mobile  \\\n",
       "0         DEL                     1.0                   0.0   \n",
       "1         DEL                     1.0                   0.0   \n",
       "2         DEL                     1.0                   0.0   \n",
       "3         DEL                     1.0                   0.0   \n",
       "4         DEL                     1.0                   0.0   \n",
       "\n",
       "   trip_type_CircleTrip  trip_type_OneWay  trip_type_RoundTrip  \n",
       "0                   0.0               0.0                  1.0  \n",
       "1                   0.0               0.0                  1.0  \n",
       "2                   0.0               0.0                  1.0  \n",
       "3                   0.0               0.0                  1.0  \n",
       "4                   0.0               0.0                  1.0  "
      ]
     },
     "execution_count": 20,
     "metadata": {},
     "output_type": "execute_result"
    }
   ],
   "source": [
    "customer_booking_encoded.head()"
   ]
  },
  {
   "cell_type": "code",
   "execution_count": 21,
   "metadata": {},
   "outputs": [
    {
     "name": "stdout",
     "output_type": "stream",
     "text": [
      "<class 'pandas.core.frame.DataFrame'>\n",
      "RangeIndex: 50000 entries, 0 to 49999\n",
      "Data columns (total 18 columns):\n",
      " #   Column                  Non-Null Count  Dtype  \n",
      "---  ------                  --------------  -----  \n",
      " 0   num_passengers          50000 non-null  int64  \n",
      " 1   purchase_lead           50000 non-null  int64  \n",
      " 2   length_of_stay          50000 non-null  int64  \n",
      " 3   flight_hour             50000 non-null  int64  \n",
      " 4   flight_day              50000 non-null  int64  \n",
      " 5   booking_origin          50000 non-null  object \n",
      " 6   wants_extra_baggage     50000 non-null  int64  \n",
      " 7   wants_preferred_seat    50000 non-null  int64  \n",
      " 8   wants_in_flight_meals   50000 non-null  int64  \n",
      " 9   flight_duration         50000 non-null  float64\n",
      " 10  booking_complete        50000 non-null  int64  \n",
      " 11  origin                  50000 non-null  object \n",
      " 12  destination             50000 non-null  object \n",
      " 13  sales_channel_Internet  50000 non-null  float64\n",
      " 14  sales_channel_Mobile    50000 non-null  float64\n",
      " 15  trip_type_CircleTrip    50000 non-null  float64\n",
      " 16  trip_type_OneWay        50000 non-null  float64\n",
      " 17  trip_type_RoundTrip     50000 non-null  float64\n",
      "dtypes: float64(6), int64(9), object(3)\n",
      "memory usage: 6.9+ MB\n"
     ]
    }
   ],
   "source": [
    "customer_booking_encoded.info()"
   ]
  },
  {
   "cell_type": "markdown",
   "metadata": {},
   "source": [
    "#### K-Fold Target Encoding"
   ]
  },
  {
   "cell_type": "markdown",
   "metadata": {},
   "source": [
    "Target Encoding (also known as Mean Encoding) is a technique where each category in a feature is replaced by the mean of the target variable for that category.\n",
    "K-Fold Target Enconding is an approach to target encoding that is applied to reduce the overfitting that may arise from using target encoding directly on the training data. \n",
    "It involves splitting the data into K folds, encoding each fold based on the other folds, and then combining the results."
   ]
  },
  {
   "cell_type": "code",
   "execution_count": 22,
   "metadata": {},
   "outputs": [
    {
     "name": "stdout",
     "output_type": "stream",
     "text": [
      "Encoding column: origin...\n",
      "Encoding column: destination...\n",
      "Encoding column: booking_origin...\n"
     ]
    }
   ],
   "source": [
    "# Import libraries\n",
    "from sklearn.model_selection import KFold\n",
    "import numpy as np\n",
    "\n",
    "def kfold_target_encoder(df, column, target, k=5):\n",
    "    \"\"\"\n",
    "    Perform k-fold target encoding\n",
    "    \"\"\"\n",
    "    # Initialize KFold\n",
    "    kf = KFold(n_splits=k, shuffle=True, random_state=42)\n",
    "    \n",
    "    # Create array to store encoded values\n",
    "    encoded_values = np.zeros(len(df))\n",
    "    \n",
    "    # Perform k-fold target encoding\n",
    "    for train_idx, val_idx in kf.split(df):\n",
    "        # Calculate means from training fold\n",
    "        means = df.iloc[train_idx].groupby(column)[target].mean()\n",
    "        \n",
    "        # Map means to validation fold\n",
    "        encoded_values[val_idx] = df.iloc[val_idx][column].map(means)\n",
    "    \n",
    "    # Handle missing values with global mean\n",
    "    global_mean = df[target].mean()\n",
    "    encoded_values = np.where(np.isnan(encoded_values), global_mean, encoded_values)\n",
    "    \n",
    "    return encoded_values\n",
    "\n",
    "# Columns to encode\n",
    "columns_to_encode = ['origin', 'destination', 'booking_origin']\n",
    "\n",
    "customer_booking_processed = customer_booking_encoded.copy()\n",
    "\n",
    "# Apply target encoding to each column\n",
    "for col in columns_to_encode:\n",
    "    print(f\"Encoding column: {col}...\")\n",
    "    customer_booking_processed[f'{col}_encoded'] = kfold_target_encoder(\n",
    "        customer_booking_processed, \n",
    "        col, \n",
    "        'booking_complete'\n",
    "    )\n",
    "    \n",
    "# Drop original columns\n",
    "customer_booking_processed = customer_booking_processed.drop(columns_to_encode, axis=1)"
   ]
  },
  {
   "cell_type": "code",
   "execution_count": 23,
   "metadata": {},
   "outputs": [
    {
     "data": {
      "text/html": [
       "<div>\n",
       "<style scoped>\n",
       "    .dataframe tbody tr th:only-of-type {\n",
       "        vertical-align: middle;\n",
       "    }\n",
       "\n",
       "    .dataframe tbody tr th {\n",
       "        vertical-align: top;\n",
       "    }\n",
       "\n",
       "    .dataframe thead th {\n",
       "        text-align: right;\n",
       "    }\n",
       "</style>\n",
       "<table border=\"1\" class=\"dataframe\">\n",
       "  <thead>\n",
       "    <tr style=\"text-align: right;\">\n",
       "      <th></th>\n",
       "      <th>num_passengers</th>\n",
       "      <th>purchase_lead</th>\n",
       "      <th>length_of_stay</th>\n",
       "      <th>flight_hour</th>\n",
       "      <th>flight_day</th>\n",
       "      <th>wants_extra_baggage</th>\n",
       "      <th>wants_preferred_seat</th>\n",
       "      <th>wants_in_flight_meals</th>\n",
       "      <th>flight_duration</th>\n",
       "      <th>booking_complete</th>\n",
       "      <th>sales_channel_Internet</th>\n",
       "      <th>sales_channel_Mobile</th>\n",
       "      <th>trip_type_CircleTrip</th>\n",
       "      <th>trip_type_OneWay</th>\n",
       "      <th>trip_type_RoundTrip</th>\n",
       "      <th>origin_encoded</th>\n",
       "      <th>destination_encoded</th>\n",
       "      <th>booking_origin_encoded</th>\n",
       "    </tr>\n",
       "  </thead>\n",
       "  <tbody>\n",
       "    <tr>\n",
       "      <th>0</th>\n",
       "      <td>2</td>\n",
       "      <td>262</td>\n",
       "      <td>19</td>\n",
       "      <td>7</td>\n",
       "      <td>6</td>\n",
       "      <td>1</td>\n",
       "      <td>0</td>\n",
       "      <td>0</td>\n",
       "      <td>5.52</td>\n",
       "      <td>0</td>\n",
       "      <td>1.0</td>\n",
       "      <td>0.0</td>\n",
       "      <td>0.0</td>\n",
       "      <td>0.0</td>\n",
       "      <td>1.0</td>\n",
       "      <td>0.201152</td>\n",
       "      <td>0.113208</td>\n",
       "      <td>0.051643</td>\n",
       "    </tr>\n",
       "    <tr>\n",
       "      <th>1</th>\n",
       "      <td>1</td>\n",
       "      <td>112</td>\n",
       "      <td>20</td>\n",
       "      <td>3</td>\n",
       "      <td>6</td>\n",
       "      <td>0</td>\n",
       "      <td>0</td>\n",
       "      <td>0</td>\n",
       "      <td>5.52</td>\n",
       "      <td>0</td>\n",
       "      <td>1.0</td>\n",
       "      <td>0.0</td>\n",
       "      <td>0.0</td>\n",
       "      <td>0.0</td>\n",
       "      <td>1.0</td>\n",
       "      <td>0.201152</td>\n",
       "      <td>0.113208</td>\n",
       "      <td>0.051643</td>\n",
       "    </tr>\n",
       "    <tr>\n",
       "      <th>2</th>\n",
       "      <td>2</td>\n",
       "      <td>243</td>\n",
       "      <td>22</td>\n",
       "      <td>17</td>\n",
       "      <td>3</td>\n",
       "      <td>1</td>\n",
       "      <td>1</td>\n",
       "      <td>0</td>\n",
       "      <td>5.52</td>\n",
       "      <td>0</td>\n",
       "      <td>1.0</td>\n",
       "      <td>0.0</td>\n",
       "      <td>0.0</td>\n",
       "      <td>0.0</td>\n",
       "      <td>1.0</td>\n",
       "      <td>0.205818</td>\n",
       "      <td>0.093750</td>\n",
       "      <td>0.108317</td>\n",
       "    </tr>\n",
       "    <tr>\n",
       "      <th>3</th>\n",
       "      <td>1</td>\n",
       "      <td>96</td>\n",
       "      <td>31</td>\n",
       "      <td>4</td>\n",
       "      <td>6</td>\n",
       "      <td>0</td>\n",
       "      <td>0</td>\n",
       "      <td>1</td>\n",
       "      <td>5.52</td>\n",
       "      <td>0</td>\n",
       "      <td>1.0</td>\n",
       "      <td>0.0</td>\n",
       "      <td>0.0</td>\n",
       "      <td>0.0</td>\n",
       "      <td>1.0</td>\n",
       "      <td>0.194771</td>\n",
       "      <td>0.061856</td>\n",
       "      <td>0.048951</td>\n",
       "    </tr>\n",
       "    <tr>\n",
       "      <th>4</th>\n",
       "      <td>2</td>\n",
       "      <td>68</td>\n",
       "      <td>22</td>\n",
       "      <td>15</td>\n",
       "      <td>3</td>\n",
       "      <td>1</td>\n",
       "      <td>0</td>\n",
       "      <td>1</td>\n",
       "      <td>5.52</td>\n",
       "      <td>0</td>\n",
       "      <td>1.0</td>\n",
       "      <td>0.0</td>\n",
       "      <td>0.0</td>\n",
       "      <td>0.0</td>\n",
       "      <td>1.0</td>\n",
       "      <td>0.204893</td>\n",
       "      <td>0.118812</td>\n",
       "      <td>0.101215</td>\n",
       "    </tr>\n",
       "  </tbody>\n",
       "</table>\n",
       "</div>"
      ],
      "text/plain": [
       "   num_passengers  purchase_lead  length_of_stay  flight_hour  flight_day  \\\n",
       "0               2            262              19            7           6   \n",
       "1               1            112              20            3           6   \n",
       "2               2            243              22           17           3   \n",
       "3               1             96              31            4           6   \n",
       "4               2             68              22           15           3   \n",
       "\n",
       "   wants_extra_baggage  wants_preferred_seat  wants_in_flight_meals  \\\n",
       "0                    1                     0                      0   \n",
       "1                    0                     0                      0   \n",
       "2                    1                     1                      0   \n",
       "3                    0                     0                      1   \n",
       "4                    1                     0                      1   \n",
       "\n",
       "   flight_duration  booking_complete  sales_channel_Internet  \\\n",
       "0             5.52                 0                     1.0   \n",
       "1             5.52                 0                     1.0   \n",
       "2             5.52                 0                     1.0   \n",
       "3             5.52                 0                     1.0   \n",
       "4             5.52                 0                     1.0   \n",
       "\n",
       "   sales_channel_Mobile  trip_type_CircleTrip  trip_type_OneWay  \\\n",
       "0                   0.0                   0.0               0.0   \n",
       "1                   0.0                   0.0               0.0   \n",
       "2                   0.0                   0.0               0.0   \n",
       "3                   0.0                   0.0               0.0   \n",
       "4                   0.0                   0.0               0.0   \n",
       "\n",
       "   trip_type_RoundTrip  origin_encoded  destination_encoded  \\\n",
       "0                  1.0        0.201152             0.113208   \n",
       "1                  1.0        0.201152             0.113208   \n",
       "2                  1.0        0.205818             0.093750   \n",
       "3                  1.0        0.194771             0.061856   \n",
       "4                  1.0        0.204893             0.118812   \n",
       "\n",
       "   booking_origin_encoded  \n",
       "0                0.051643  \n",
       "1                0.051643  \n",
       "2                0.108317  \n",
       "3                0.048951  \n",
       "4                0.101215  "
      ]
     },
     "execution_count": 23,
     "metadata": {},
     "output_type": "execute_result"
    }
   ],
   "source": [
    "customer_booking_processed.head()"
   ]
  },
  {
   "cell_type": "markdown",
   "metadata": {},
   "source": [
    "### Predictive Modelling"
   ]
  },
  {
   "cell_type": "markdown",
   "metadata": {},
   "source": [
    "#### Nessecary Libraries"
   ]
  },
  {
   "cell_type": "code",
   "execution_count": 24,
   "metadata": {},
   "outputs": [],
   "source": [
    "from sklearn.model_selection import train_test_split\n",
    "from sklearn.metrics import accuracy_score, classification_report, roc_auc_score, confusion_matrix\n",
    "from sklearn.metrics import precision_recall_curve\n",
    "import seaborn as sns\n",
    "import numpy as np\n",
    "import matplotlib.pyplot as plt\n",
    "import warnings\n",
    "warnings.filterwarnings(\"ignore\")"
   ]
  },
  {
   "cell_type": "markdown",
   "metadata": {},
   "source": [
    "#### Random Forest Classifer"
   ]
  },
  {
   "cell_type": "markdown",
   "metadata": {},
   "source": [
    "A Random Forest Classifier is an ensemble learning method used for classification tasks in machine learning. It operates by combining the predictions of multiple decision trees to produce a more accurate and stable result."
   ]
  },
  {
   "cell_type": "markdown",
   "metadata": {},
   "source": [
    "##### Modelling"
   ]
  },
  {
   "cell_type": "code",
   "execution_count": 119,
   "metadata": {},
   "outputs": [],
   "source": [
    "from sklearn.ensemble import RandomForestClassifier"
   ]
  },
  {
   "cell_type": "code",
   "execution_count": 120,
   "metadata": {},
   "outputs": [],
   "source": [
    "# Split the data into features and target variable\n",
    "X = customer_booking_processed.drop('booking_complete', axis=1)\n",
    "\n",
    "y = customer_booking_processed['booking_complete']"
   ]
  },
  {
   "cell_type": "code",
   "execution_count": 121,
   "metadata": {},
   "outputs": [
    {
     "name": "stdout",
     "output_type": "stream",
     "text": [
      "Accuracy: 0.855\n",
      "AUC-ROC Score: 0.538\n",
      "\n",
      "Classification Report:\n",
      "               precision    recall  f1-score   support\n",
      "\n",
      "           0       0.86      0.99      0.92      8520\n",
      "           1       0.56      0.09      0.15      1480\n",
      "\n",
      "    accuracy                           0.85     10000\n",
      "   macro avg       0.71      0.54      0.54     10000\n",
      "weighted avg       0.82      0.85      0.81     10000\n",
      "\n"
     ]
    }
   ],
   "source": [
    "# Split the dataset into training and testing sets\n",
    "X_train, X_test, y_train, y_test = train_test_split(X, y, test_size=0.2, random_state=42)\n",
    "\n",
    "# Train a Random Forest Classifier\n",
    "rf_classifier = RandomForestClassifier(\n",
    "    n_estimators=100, \n",
    "    random_state=42,\n",
    "    class_weight='balanced'\n",
    "    )\n",
    "\n",
    "# Fit the model on the training data\n",
    "rf_classifier.fit(X_train, y_train)\n",
    "\n",
    "# Make predictions on the test set\n",
    "y_pred = rf_classifier.predict(X_test)\n",
    "y_pred_proba = rf_classifier.predict_proba(X_test)[:, 1]\n",
    "\n",
    "# Evaluate the model\n",
    "accuracy = accuracy_score(y_test, y_pred)\n",
    "classy_report = classification_report(y_test, y_pred)\n",
    "\n",
    "# Print the accuracy and classification report\n",
    "print(f\"Accuracy: {accuracy:.3f}\")\n",
    "print(f\"AUC-ROC Score: {roc_auc_score(y_test, y_pred):.3f}\")\n",
    "print(\"\\nClassification Report:\\n\", classy_report)"
   ]
  },
  {
   "cell_type": "code",
   "execution_count": 123,
   "metadata": {},
   "outputs": [
    {
     "name": "stdout",
     "output_type": "stream",
     "text": [
      "\n",
      "========================================\n",
      "RANDOM FOREST USING OPTIMAL THRESHOLD\n",
      "========================================\n",
      "\n",
      "Results with Optimal threshold (0.24):\n",
      "\n",
      "Accuracy: 0.796\n",
      "AUC-ROC Score: 0.687\n",
      "              precision    recall  f1-score   support\n",
      "\n",
      "           0       0.91      0.84      0.88      8520\n",
      "           1       0.37      0.53      0.44      1480\n",
      "\n",
      "    accuracy                           0.80     10000\n",
      "   macro avg       0.64      0.69      0.66     10000\n",
      "weighted avg       0.83      0.80      0.81     10000\n",
      "\n"
     ]
    }
   ],
   "source": [
    "# Added after using the precision recall graph below to find the optimal threshold\n",
    "optimal_threshold = 0.24\n",
    "y_pred_adjusted = (y_pred_proba > optimal_threshold).astype(int)\n",
    "\n",
    "\n",
    "print(\"\\n\" + \"=\"*40)\n",
    "print(\"RANDOM FOREST USING OPTIMAL THRESHOLD\")\n",
    "print(\"=\"*40)\n",
    "\n",
    "print(f\"\\nResults with Optimal threshold ({optimal_threshold}):\")\n",
    "print(f\"\\nAccuracy: {accuracy_score(y_test, y_pred_adjusted):.3f}\")\n",
    "print(f\"AUC-ROC Score: {roc_auc_score(y_test, y_pred_adjusted):.3f}\")\n",
    "print(classification_report(y_test, y_pred_adjusted))"
   ]
  },
  {
   "cell_type": "markdown",
   "metadata": {},
   "source": [
    "##### Results and Insights"
   ]
  },
  {
   "cell_type": "markdown",
   "metadata": {},
   "source": [
    "Based on the classification report. Here are some insights:\n",
    "\n",
    "Overall Accuracy\n",
    "- The accuracy is 0.85 (85%), which seems good at first glance, but accuracy alone can be misleading, especially if the classes are imbalanced.\n",
    "\n",
    "Class Distribution\n",
    "- Support shows class 0 appears 8520 times and class 1 appears 1480 times in your test set.\n",
    "\n",
    "This indicates a class imbalance where class 0 is much more frequent.\n",
    "\n",
    "The AUC-ROC score was 0.687. This indicates that the model has a modest ability to distinguish between the positive and negative classes"
   ]
  },
  {
   "cell_type": "markdown",
   "metadata": {},
   "source": [
    "Precision, Recall, and F1-Score Insights\n",
    "\n",
    "Class 0\n",
    "- Precision: 0.91 — Of all the predicted class 0 samples, 91% were correct.\n",
    "\n",
    "- Recall: 0.84 — The classifier correctly identified 84% of the true class 0 samples.\n",
    "\n",
    "- F1-score: 0.88 — Good balance between precision and recall for class 0.\n",
    "\n",
    "This suggests the classifier is very good at detecting class 0."
   ]
  },
  {
   "cell_type": "markdown",
   "metadata": {},
   "source": [
    "Class 1\n",
    "- Precision: 0.37 – Only 37% of the samples predicted as class 1 were actually class 1.\n",
    "\n",
    "- Recall: 0.53 – The model correctly captured 53% of all true class 1 samples.\n",
    "\n",
    "- F1-score: 0.44 – This score is significantly lower than for class 0, indicating that the model is struggling to correctly identify class 1.\n",
    "\n",
    "The model is missing most of the class 1 samples and often misclassifies class 0 as class 1."
   ]
  },
  {
   "cell_type": "markdown",
   "metadata": {},
   "source": [
    "Since the dataset was heavily imbalance I decided to use a technique commonly used with imbalanced datasets"
   ]
  },
  {
   "cell_type": "markdown",
   "metadata": {},
   "source": [
    "##### Precision Recall for Optimal Threshold"
   ]
  },
  {
   "cell_type": "code",
   "execution_count": 68,
   "metadata": {},
   "outputs": [
    {
     "data": {
      "image/png": "[encoded data removed]",
      "text/plain": [
       "<Figure size 1000x600 with 1 Axes>"
      ]
     },
     "metadata": {},
     "output_type": "display_data"
    },
    {
     "name": "stdout",
     "output_type": "stream",
     "text": [
      "Optimal threshold: 0.240\n",
      "At optimal threshold - Precision: 0.360, Recall: 0.559\n"
     ]
    }
   ],
   "source": [
    "from sklearn.metrics import precision_recall_curve\n",
    "import matplotlib.pyplot as plt\n",
    "\n",
    "# Get prediction probabilities\n",
    "y_prob = rf_classifier.predict_proba(X_test)[:, 1]\n",
    "\n",
    "# Calculate precision-recall curve\n",
    "precision, recall, thresholds = precision_recall_curve(y_test, y_prob)\n",
    "\n",
    "# Create the plot\n",
    "plt.figure(figsize=(10, 6))\n",
    "plt.plot(recall, precision, 'b-', label='Precision-Recall curve')\n",
    "plt.xlabel('Recall')\n",
    "plt.ylabel('Precision')\n",
    "plt.title('Precision-Recall Curve')\n",
    "plt.grid(True)\n",
    "plt.legend()\n",
    "\n",
    "# Optional: Find optimal threshold\n",
    "# (maximizing F1 score)\n",
    "f1_scores = 2 * (precision * recall) / (precision + recall)\n",
    "optimal_idx = np.argmax(f1_scores)\n",
    "optimal_threshold = thresholds[optimal_idx]\n",
    "\n",
    "# Add optimal point to plot\n",
    "plt.plot(recall[optimal_idx], precision[optimal_idx], 'ro', \n",
    "         label=f'Optimal Threshold: {optimal_threshold:.2f}')\n",
    "plt.legend()\n",
    "\n",
    "plt.show()\n",
    "\n",
    "print(f\"Optimal threshold: {optimal_threshold:.3f}\")\n",
    "print(f\"At optimal threshold - Precision: {precision[optimal_idx]:.3f}, Recall: {recall[optimal_idx]:.3f}\")"
   ]
  },
  {
   "cell_type": "markdown",
   "metadata": {},
   "source": [
    "#### Random Forest Classifier with SMOTE"
   ]
  },
  {
   "cell_type": "markdown",
   "metadata": {},
   "source": [
    "SMOTE or Synthetic Minority Over-sampling Technique is a common and effective approach for handling imbalanced datasets in classification problems. It works by generating synthetic samples for the minority class (Class 1 in this instance). This is supposed to increase the representation of the miniority class in the training data. which will in turn allow the model to learn patterns from both classes more effectively."
   ]
  },
  {
   "cell_type": "markdown",
   "metadata": {},
   "source": [
    "##### Modelling"
   ]
  },
  {
   "cell_type": "code",
   "execution_count": 74,
   "metadata": {},
   "outputs": [],
   "source": [
    "# Import necessary libraries\n",
    "from sklearn.ensemble import RandomForestClassifier\n",
    "from imblearn.over_sampling import SMOTE"
   ]
  },
  {
   "cell_type": "code",
   "execution_count": 125,
   "metadata": {},
   "outputs": [
    {
     "name": "stdout",
     "output_type": "stream",
     "text": [
      "Original class distribution:\n",
      "booking_complete\n",
      "0    42522\n",
      "1     7478\n",
      "Name: count, dtype: int64\n",
      "Class distribution percentages:\n",
      "booking_complete\n",
      "0    85.044\n",
      "1    14.956\n",
      "Name: proportion, dtype: float64\n"
     ]
    }
   ],
   "source": [
    "# Prepare your data\n",
    "X = customer_booking_processed.drop('booking_complete', axis=1)  # Features\n",
    "y = customer_booking_processed['booking_complete']  # Target\n",
    "\n",
    "print(\"Original class distribution:\")\n",
    "print(y.value_counts())\n",
    "print(f\"Class distribution percentages:\")\n",
    "print(y.value_counts(normalize=True) * 100)"
   ]
  },
  {
   "cell_type": "code",
   "execution_count": 132,
   "metadata": {},
   "outputs": [
    {
     "name": "stdout",
     "output_type": "stream",
     "text": [
      "\n",
      "Training set class distribution:\n",
      "booking_complete\n",
      "0    34018\n",
      "1     5982\n",
      "Name: count, dtype: int64\n",
      "\n",
      "After SMOTE - Training set class distribution:\n",
      "booking_complete\n",
      "0    34018\n",
      "1    34018\n",
      "Name: count, dtype: int64\n",
      "New class distribution percentages:\n",
      "booking_complete\n",
      "0    50.0\n",
      "1    50.0\n",
      "Name: proportion, dtype: float64\n",
      "\n",
      "Dataset size change: +70.1%\n"
     ]
    }
   ],
   "source": [
    "# Split data BEFORE applying SMOTE (important!)\n",
    "\n",
    "X_train, X_test, y_train, y_test = train_test_split(\n",
    "    X, y, \n",
    "    test_size=0.20,  # 20% for testing \n",
    "    random_state=42, \n",
    "    stratify=y  # Maintain class distribution in splits\n",
    ")\n",
    "\n",
    "print(f\"\\nTraining set class distribution:\")\n",
    "print(y_train.value_counts())\n",
    "\n",
    "# Apply SMOTE only to training data\n",
    "smote = SMOTE(\n",
    "    random_state=42,\n",
    "    k_neighbors=5,  # Number of nearest neighbors to use\n",
    "    sampling_strategy= 'auto'  # 'auto' balances to 50:50, or use float for custom ratio\n",
    ")\n",
    "\n",
    "X_train_resampled, y_train_resampled = smote.fit_resample(X_train, y_train)\n",
    "\n",
    "print(f\"\\nAfter SMOTE - Training set class distribution:\")\n",
    "print(pd.Series(y_train_resampled).value_counts())\n",
    "\n",
    "print(f\"New class distribution percentages:\")\n",
    "print(pd.Series(y_train_resampled).value_counts(normalize=True) * 100)\n",
    "\n",
    "# Calculate the changes\n",
    "original_size = len(y_train)\n",
    "new_size = len(y_train_resampled)\n",
    "size_change = ((new_size - original_size) / original_size) * 100\n",
    "\n",
    "print(f\"\\nDataset size change: {size_change:+.1f}%\")"
   ]
  },
  {
   "cell_type": "code",
   "execution_count": 133,
   "metadata": {},
   "outputs": [],
   "source": [
    "# Train Random Forest on balanced data\n",
    "rf_smote = RandomForestClassifier(\n",
    "    n_estimators=100,\n",
    "    random_state=42,\n",
    "    class_weight='balanced',\n",
    "    max_depth=10,\n",
    "    min_samples_split=5,\n",
    "    min_samples_leaf=2\n",
    ")\n",
    "\n",
    "# Fit on the resampled training data\n",
    "rf_smote.fit(X_train_resampled, y_train_resampled)\n",
    "\n",
    "# Make predictions on original test set (not resampled!)\n",
    "y_pred = rf_smote.predict(X_test)\n",
    "y_pred_proba = rf_smote.predict_proba(X_test)[:, 1]\n"
   ]
  },
  {
   "cell_type": "code",
   "execution_count": 134,
   "metadata": {},
   "outputs": [
    {
     "name": "stdout",
     "output_type": "stream",
     "text": [
      "\n",
      "==================================================\n",
      "RANDOM FOREST WITH SMOTE RESULTS\n",
      "==================================================\n",
      "\n",
      "Accuracy: 0.7506\n",
      "AUC-ROC Score: 0.7519\n",
      "\n",
      "Classification Report:\n",
      "              precision    recall  f1-score   support\n",
      "\n",
      "           0       0.91      0.79      0.84      8504\n",
      "           1       0.31      0.55      0.40      1496\n",
      "\n",
      "    accuracy                           0.75     10000\n",
      "   macro avg       0.61      0.67      0.62     10000\n",
      "weighted avg       0.82      0.75      0.78     10000\n",
      "\n"
     ]
    }
   ],
   "source": [
    "# Step 6: Evaluate performance\n",
    "print(\"\\n\" + \"=\"*50)\n",
    "print(\"RANDOM FOREST WITH SMOTE RESULTS\")\n",
    "print(\"=\"*50)\n",
    "\n",
    "print(f\"\\nAccuracy: {accuracy_score(y_test, y_pred):.4f}\")\n",
    "print(f\"AUC-ROC Score: {roc_auc_score(y_test, y_pred_proba):.4f}\")\n",
    "print(f\"\\nClassification Report:\")\n",
    "print(classification_report(y_test, y_pred))"
   ]
  },
  {
   "cell_type": "code",
   "execution_count": 136,
   "metadata": {},
   "outputs": [
    {
     "name": "stdout",
     "output_type": "stream",
     "text": [
      "\n",
      "============================================================\n",
      "RANDOM FOREST WITH SMOTE RESULTS AND USING OPTIMAL THRESHOLD\n",
      "============================================================\n",
      "\n",
      "Results with Optimal threshold (0.45):\n",
      "\n",
      "Accuracy: 0.7301\n",
      "AUC-ROC Score: 0.6964\n",
      "              precision    recall  f1-score   support\n",
      "\n",
      "           0       0.92      0.74      0.82      8504\n",
      "           1       0.31      0.65      0.42      1496\n",
      "\n",
      "    accuracy                           0.73     10000\n",
      "   macro avg       0.62      0.70      0.62     10000\n",
      "weighted avg       0.83      0.73      0.76     10000\n",
      "\n"
     ]
    }
   ],
   "source": [
    "# Added after using the graph below to find the optimal threshold\n",
    "opltimal_threshold = 0.45\n",
    "y_pred_adjusted = (y_pred_proba > opltimal_threshold).astype(int)\n",
    "\n",
    "print(\"\\n\" + \"=\"*60)\n",
    "print(\"RANDOM FOREST WITH SMOTE RESULTS AND USING OPTIMAL THRESHOLD\")\n",
    "print(\"=\"*60)\n",
    "\n",
    "print(f\"\\nResults with Optimal threshold ({opltimal_threshold}):\")\n",
    "print(f\"\\nAccuracy: {accuracy_score(y_test, y_pred_adjusted):.4f}\")\n",
    "print(f\"AUC-ROC Score: {roc_auc_score(y_test, y_pred_adjusted):.4f}\")\n",
    "print(classification_report(y_test, y_pred_adjusted))"
   ]
  },
  {
   "cell_type": "markdown",
   "metadata": {},
   "source": [
    "##### Results"
   ]
  },
  {
   "cell_type": "markdown",
   "metadata": {},
   "source": [
    "Without the SMOTE technique the Class distribution 85% to 15% in favor of Class 0 (booking not completed).\n",
    "\n",
    "But with the SMOTE technique the Class distribution is now 50% each\n"
   ]
  },
  {
   "cell_type": "markdown",
   "metadata": {},
   "source": [
    "Both Result using the SMOTE Techinque drastically increase the model's behaivour in my opinion using the optimal threshold was better overall. There are some notable tradeoffs some i expexcted others not so much.\n",
    "- Accuracy dropped  79.6% to 72.3%\n",
    "- Recall for Class 1 (one of the main focus) increase from 53% to 65%\n",
    "- Precision for Class 1 decreased from 37% to 31% which apparently is an expected tradeoff for recall\n",
    "- F1 Score for Class 1 increased\n",
    "- Recall for Class 0 decreased from 84% to 73%, meaning more false positives were introduced\n",
    "- The AUC-ROC score increased slightly to 0.7009. This improvement suggests that balancing the dataset with synthetic minority samples helped the classifier become better at ranking positive cases higher than negative ones\n"
   ]
  },
  {
   "cell_type": "markdown",
   "metadata": {},
   "source": [
    "While the results were better i still feel like the model could perform better. I decided to try a SMOTE variation called SMOTE-ENN"
   ]
  },
  {
   "cell_type": "markdown",
   "metadata": {},
   "source": [
    "##### Feature Importance Analysis, Precision Recall for Optimal Threshold and Confusion Matrix"
   ]
  },
  {
   "cell_type": "code",
   "execution_count": 129,
   "metadata": {},
   "outputs": [
    {
     "name": "stdout",
     "output_type": "stream",
     "text": [
      "\n",
      "==================================================\n",
      "FEATURE IMPORTANCE (SMOTE Model)\n",
      "==================================================\n",
      "Top 10 Most Important Features:\n",
      "                   feature  importance\n",
      "16  booking_origin_encoded    0.419407\n",
      "14          origin_encoded    0.150761\n",
      "15     destination_encoded    0.140869\n",
      "8          flight_duration    0.102151\n",
      "9   sales_channel_Internet    0.048319\n",
      "10    sales_channel_Mobile    0.046902\n",
      "2           length_of_stay    0.026781\n",
      "4               flight_day    0.017093\n",
      "1            purchase_lead    0.015715\n",
      "0           num_passengers    0.009381\n"
     ]
    }
   ],
   "source": [
    "# Feature importance analysis\n",
    "print(\"\\n\" + \"=\"*50)\n",
    "print(\"FEATURE IMPORTANCE (SMOTE Model)\")\n",
    "print(\"=\"*50)\n",
    "\n",
    "feature_importance = pd.DataFrame({\n",
    "    'feature': X.columns,\n",
    "    'importance': rf_smote.feature_importances_\n",
    "}).sort_values('importance', ascending=False)\n",
    "\n",
    "print(\"Top 10 Most Important Features:\")\n",
    "print(feature_importance.head(10))"
   ]
  },
  {
   "cell_type": "code",
   "execution_count": 135,
   "metadata": {},
   "outputs": [
    {
     "data": {
      "image/png": "[encoded data removed]",
      "text/plain": [
       "<Figure size 600x200 with 1 Axes>"
      ]
     },
     "metadata": {},
     "output_type": "display_data"
    },
    {
     "name": "stdout",
     "output_type": "stream",
     "text": [
      "Optimal threshold: 0.450\n",
      "At optimal threshold - Precision: 0.979, Recall: 0.827\n"
     ]
    }
   ],
   "source": [
    "\n",
    "# Get prediction probabilities\n",
    "y_prob = rf_classifier.predict_proba(X_test)[:, 1]\n",
    "\n",
    "# Calculate precision-recall curve\n",
    "precision, recall, thresholds = precision_recall_curve(y_test, y_prob)\n",
    "\n",
    "# Create the plot\n",
    "plt.figure(figsize=(6, 2))\n",
    "plt.plot(recall, precision, 'b-', label='Precision-Recall curve')\n",
    "plt.xlabel('Recall')\n",
    "plt.ylabel('Precision')\n",
    "plt.title('Precision-Recall Curve')\n",
    "plt.grid(True)\n",
    "plt.legend()\n",
    "\n",
    "# Optional: Find optimal threshold\n",
    "# (maximizing F1 score)\n",
    "f1_scores = 2 * (precision * recall) / (precision + recall)\n",
    "optimal_idx = np.argmax(f1_scores)\n",
    "optimal_threshold = thresholds[optimal_idx]\n",
    "\n",
    "# Add optimal point to plot\n",
    "plt.plot(recall[optimal_idx], precision[optimal_idx], 'ro', \n",
    "         label=f'Optimal Threshold: {optimal_threshold:.2f}')\n",
    "plt.legend()\n",
    "\n",
    "plt.show()\n",
    "\n",
    "print(f\"Optimal threshold: {optimal_threshold:.3f}\")\n",
    "print(f\"At optimal threshold - Precision: {precision[optimal_idx]:.3f}, Recall: {recall[optimal_idx]:.3f}\")"
   ]
  },
  {
   "cell_type": "markdown",
   "metadata": {},
   "source": [
    "#### Random Forest Classifier With SMOTE-ENN"
   ]
  },
  {
   "cell_type": "markdown",
   "metadata": {},
   "source": [
    "SMOTE-ENN is a hybrid resampling technique that combines SMOTE (Synthetic Minority Oversampling Technique) and ENN (Edited Nearest Neighbors) to address imbalanced datasets in machine learning. While SMOTE oversamples the minority class to increase its representation ENN cleans the oversampled dataset by removing noisy or misclassified samples, improving data quality."
   ]
  },
  {
   "cell_type": "markdown",
   "metadata": {},
   "source": [
    "##### Modelling"
   ]
  },
  {
   "cell_type": "code",
   "execution_count": 137,
   "metadata": {},
   "outputs": [],
   "source": [
    "# Import necessary libraries\n",
    "from imblearn.combine import SMOTEENN\n",
    "from imblearn.over_sampling import SMOTE\n",
    "from imblearn.under_sampling import EditedNearestNeighbours\n",
    "from sklearn.ensemble import RandomForestClassifier\n",
    "from collections import Counter"
   ]
  },
  {
   "cell_type": "code",
   "execution_count": 138,
   "metadata": {},
   "outputs": [
    {
     "name": "stdout",
     "output_type": "stream",
     "text": [
      "Original class distribution:\n",
      "booking_complete\n",
      "0    42522\n",
      "1     7478\n",
      "Name: count, dtype: int64\n",
      "Class distribution percentages:\n",
      "booking_complete\n",
      "0    85.044\n",
      "1    14.956\n",
      "Name: proportion, dtype: float64\n",
      "Original dataset size: 50000\n",
      "\n",
      "Training set class distribution:\n",
      "booking_complete\n",
      "0    34018\n",
      "1     5982\n",
      "Name: count, dtype: int64\n",
      "Training set size: 40000\n"
     ]
    }
   ],
   "source": [
    "# Prepare your data\n",
    "# Assuming your dataset is customer_booking_processed after target encoding\n",
    "X = customer_booking_processed.drop('booking_complete', axis=1)  # Features\n",
    "y = customer_booking_processed['booking_complete']  # Target\n",
    "\n",
    "print(\"Original class distribution:\")\n",
    "print(y.value_counts())\n",
    "print(f\"Class distribution percentages:\")\n",
    "print(y.value_counts(normalize=True) * 100)\n",
    "print(f\"Original dataset size: {len(y)}\")\n",
    "\n",
    "# Split data BEFORE applying SMOTE-ENN (important!)\n",
    "X_train, X_test, y_train, y_test = train_test_split(X, y, test_size=0.2, random_state=42, stratify=y)  # Maintain class distribution in splits\n",
    "\n",
    "print(f\"\\nTraining set class distribution:\")\n",
    "print(y_train.value_counts())\n",
    "print(f\"Training set size: {len(y_train)}\")"
   ]
  },
  {
   "cell_type": "code",
   "execution_count": 139,
   "metadata": {},
   "outputs": [
    {
     "name": "stdout",
     "output_type": "stream",
     "text": [
      "\n",
      "============================================================\n",
      "APPLYING SMOTE-ENN\n",
      "============================================================\n",
      "Applying SMOTE-ENN resampling...\n",
      "\n",
      "After SMOTE-ENN - Training set class distribution:\n",
      "booking_complete\n",
      "0    34018\n",
      "1    30796\n",
      "Name: count, dtype: int64\n",
      "New class distribution percentages:\n",
      "booking_complete\n",
      "0    52.485574\n",
      "1    47.514426\n",
      "Name: proportion, dtype: float64\n",
      "Resampled training set size: 64814\n",
      "\n",
      "Dataset size change: +62.0%\n",
      "Samples removed by ENN: 0\n"
     ]
    }
   ],
   "source": [
    "# Apply SMOTE-ENN to training data\n",
    "print(\"\\n\" + \"=\"*60)\n",
    "print(\"APPLYING SMOTE-ENN\")\n",
    "print(\"=\"*60)\n",
    "\n",
    "# Initialize SMOTE-ENN with custom parameters\n",
    "smote_enn = SMOTEENN(\n",
    "    smote=SMOTE(\n",
    "        random_state=42,\n",
    "        k_neighbors=5,\n",
    "        sampling_strategy='auto'  # Can also use float like 0.8\n",
    "    ),\n",
    "    enn=EditedNearestNeighbours(\n",
    "        n_neighbors=3,  # Number of neighbors for ENN\n",
    "        kind_sel='all'  # 'all' removes samples that disagree with all neighbors\n",
    "    ),\n",
    "    random_state=42\n",
    ")\n",
    "\n",
    "print(\"Applying SMOTE-ENN resampling...\")\n",
    "X_train_resampled, y_train_resampled = smote_enn.fit_resample(X_train, y_train)\n",
    "\n",
    "print(f\"\\nAfter SMOTE-ENN - Training set class distribution:\")\n",
    "print(pd.Series(y_train_resampled).value_counts())\n",
    "print(f\"New class distribution percentages:\")\n",
    "print(pd.Series(y_train_resampled).value_counts(normalize=True) * 100)\n",
    "print(f\"Resampled training set size: {len(y_train_resampled)}\")\n",
    "\n",
    "# Calculate the changes\n",
    "original_size = len(y_train)\n",
    "new_size = len(y_train_resampled)\n",
    "size_change = ((new_size - original_size) / original_size) * 100\n",
    "\n",
    "print(f\"\\nDataset size change: {size_change:+.1f}%\")\n",
    "print(f\"Samples removed by ENN: {original_size - new_size + (pd.Series(y_train_resampled).value_counts()[1] - y_train.value_counts()[1])}\")\n"
   ]
  },
  {
   "cell_type": "code",
   "execution_count": 140,
   "metadata": {},
   "outputs": [
    {
     "name": "stdout",
     "output_type": "stream",
     "text": [
      "\n",
      "========================================\n",
      "TRAINING RANDOM FOREST WITH SMOTE-ENN\n",
      "========================================\n",
      "\n",
      "Accuracy: 0.7584\n",
      "AUC-ROC Score: 0.7489\n",
      "\n",
      "Classification Report:\n",
      "              precision    recall  f1-score   support\n",
      "\n",
      "           0       0.90      0.81      0.85      8504\n",
      "           1       0.30      0.48      0.37      1496\n",
      "\n",
      "    accuracy                           0.76     10000\n",
      "   macro avg       0.60      0.64      0.61     10000\n",
      "weighted avg       0.81      0.76      0.78     10000\n",
      "\n"
     ]
    }
   ],
   "source": [
    "# Train Random Forest on SMOTE-ENN balanced data\n",
    "print(\"\\n\" + \"=\"*40)\n",
    "print(\"TRAINING RANDOM FOREST WITH SMOTE-ENN\")\n",
    "print(\"=\"*40)\n",
    "\n",
    "rf_smote_enn = RandomForestClassifier(\n",
    "    n_estimators=100,\n",
    "    random_state=42,\n",
    "    max_depth=10,\n",
    "    min_samples_split=5,\n",
    "    min_samples_leaf=2,\n",
    "    class_weight=None  # No need for class_weight with balanced data\n",
    ")\n",
    "\n",
    "# Fit on the SMOTE-ENN resampled training data\n",
    "rf_smote_enn.fit(X_train_resampled, y_train_resampled)\n",
    "\n",
    "# Make predictions on original test set\n",
    "y_pred = rf_smote_enn.predict(X_test)\n",
    "y_pred_proba = rf_smote_enn.predict_proba(X_test)[:, 1]\n",
    "\n",
    "\n",
    "# Evaluate performance\n",
    "print(f\"\\nAccuracy: {accuracy_score(y_test, y_pred):.4f}\")\n",
    "print(f\"AUC-ROC Score: {roc_auc_score(y_test, y_pred_proba):.4f}\")\n",
    "print(f\"\\nClassification Report:\")\n",
    "print(classification_report(y_test, y_pred))"
   ]
  },
  {
   "cell_type": "markdown",
   "metadata": {},
   "source": [
    "##### Results"
   ]
  },
  {
   "cell_type": "markdown",
   "metadata": {},
   "source": [
    "Across the board other an improvement in AUC. it seems like SMOTE-ENN all other metrics fell slightly compared to the original model. \n",
    "\n",
    "This indicates SMOTE-ENN changed the decision boundary in a way hurts the practical thresholded detection of positives in your current setup but maybe helps the global ranking.\n",
    "\n",
    "With all this in mind i decided to try two other models to observe if there is a significant improvement"
   ]
  },
  {
   "cell_type": "markdown",
   "metadata": {},
   "source": [
    "##### Feature Analysis"
   ]
  },
  {
   "cell_type": "code",
   "execution_count": 141,
   "metadata": {},
   "outputs": [
    {
     "name": "stdout",
     "output_type": "stream",
     "text": [
      "\n",
      "============================================================\n",
      "FEATURE IMPORTANCE (SMOTE-ENN Model)\n",
      "============================================================\n",
      "Top 10 Most Important Features:\n",
      "                   feature  importance\n",
      "16  booking_origin_encoded    0.414917\n",
      "14          origin_encoded    0.140481\n",
      "15     destination_encoded    0.138550\n",
      "8          flight_duration    0.107206\n",
      "10    sales_channel_Mobile    0.051694\n",
      "9   sales_channel_Internet    0.047882\n",
      "2           length_of_stay    0.032720\n",
      "4               flight_day    0.017915\n",
      "1            purchase_lead    0.016063\n",
      "0           num_passengers    0.010419\n"
     ]
    }
   ],
   "source": [
    "# Step 9: Feature importance analysis\n",
    "print(\"\\n\" + \"=\"*60)\n",
    "print(\"FEATURE IMPORTANCE (SMOTE-ENN Model)\")\n",
    "print(\"=\"*60)\n",
    "\n",
    "feature_importance = pd.DataFrame({\n",
    "    'feature': X.columns,\n",
    "    'importance': rf_smote_enn.feature_importances_\n",
    "}).sort_values('importance', ascending=False)\n",
    "\n",
    "print(\"Top 10 Most Important Features:\")\n",
    "print(feature_importance.head(10))"
   ]
  },
  {
   "cell_type": "markdown",
   "metadata": {},
   "source": [
    "#### LightGBM"
   ]
  },
  {
   "cell_type": "markdown",
   "metadata": {},
   "source": [
    "LightGBM is a gradient boosting framework. It builds trees sequentially, where each new tree aims to correct the errors made by the previous trees. It often achieves higher accuracy than Random Forest, especially with proper hyperparameter tuning, by focusing on reducing errors iteratively."
   ]
  },
  {
   "cell_type": "markdown",
   "metadata": {},
   "source": [
    "##### Modelling"
   ]
  },
  {
   "cell_type": "code",
   "execution_count": 145,
   "metadata": {},
   "outputs": [],
   "source": [
    "# Import required libraries\n",
    "import lightgbm as lgb\n",
    "from lightgbm import early_stopping\n",
    "from lightgbm import log_evaluation\n",
    "import warnings\n",
    "warnings.filterwarnings('ignore')"
   ]
  },
  {
   "cell_type": "code",
   "execution_count": 146,
   "metadata": {},
   "outputs": [
    {
     "name": "stdout",
     "output_type": "stream",
     "text": [
      "Training until validation scores don't improve for 10 rounds\n",
      "Early stopping, best iteration is:\n",
      "[5]\ttraining's binary_logloss: 0.399761\tvalid_1's binary_logloss: 0.400724\n"
     ]
    }
   ],
   "source": [
    "# Split data\n",
    "X = customer_booking_processed.drop('booking_complete', axis=1)\n",
    "y = customer_booking_processed['booking_complete']\n",
    "\n",
    "X_train, X_test, y_train, y_test = train_test_split(X, y, \n",
    "                                                    test_size=0.2,\n",
    "                                                    random_state=42,\n",
    "                                                    stratify=y)\n",
    "\n",
    "# Create LightGBM datasets\n",
    "train_data = lgb.Dataset(X_train, label=y_train)\n",
    "test_data = lgb.Dataset(X_test, label=y_test)\n",
    "\n",
    "# Set parameters\n",
    "params = {\n",
    "    'objective': 'binary',\n",
    "    'metric': 'binary_logloss',\n",
    "    'boosting_type': 'gbdt',\n",
    "    'num_leaves': 31,\n",
    "    'learning_rate': 0.05,\n",
    "    'feature_fraction': 0.9,\n",
    "    'is_unbalance': True,\n",
    "    'verbose': -1\n",
    "}\n",
    "\n",
    "# Train model\n",
    "model = lgb.train(params,\n",
    "                  train_data,\n",
    "                  num_boost_round=100,\n",
    "                  valid_sets=[train_data, test_data],\n",
    "                  callbacks=[\n",
    "                      early_stopping(stopping_rounds=10),\n",
    "                      log_evaluation(period=20)\n",
    "                    ])\n",
    "\n",
    "# Make predictions\n",
    "# Optimal threshold 0.256 was found after using the precision recall graph below\n",
    "y_pred = (model.predict(X_test) > 0.256).astype(int)"
   ]
  },
  {
   "cell_type": "code",
   "execution_count": 147,
   "metadata": {},
   "outputs": [
    {
     "name": "stdout",
     "output_type": "stream",
     "text": [
      "\n",
      "==================================================\n",
      "LIGHTGBM MODEL RESULTS WITH OPTIMAL THRESHOLD\n",
      "==================================================\n",
      "\n",
      "Accuracy: 0.7375\n",
      "AUC-ROC Score: 0.7187\n",
      "\n",
      "Classification Report:\n",
      "              precision    recall  f1-score   support\n",
      "\n",
      "           0       0.93      0.75      0.83      8504\n",
      "           1       0.32      0.69      0.44      1496\n",
      "\n",
      "    accuracy                           0.74     10000\n",
      "   macro avg       0.63      0.72      0.63     10000\n",
      "weighted avg       0.84      0.74      0.77     10000\n",
      "\n"
     ]
    }
   ],
   "source": [
    "# Print results\n",
    "print(\"\\n\" + \"=\"*50)\n",
    "print(\"LIGHTGBM MODEL RESULTS WITH OPTIMAL THRESHOLD\")\n",
    "print(\"=\"*50)\n",
    "\n",
    "print(f\"\\nAccuracy: {accuracy_score(y_test, y_pred):.4f}\")\n",
    "print(f\"AUC-ROC Score: {roc_auc_score(y_test, y_pred):.4f}\")\n",
    "print(\"\\nClassification Report:\")\n",
    "print(classification_report(y_test, y_pred))"
   ]
  },
  {
   "cell_type": "markdown",
   "metadata": {},
   "source": [
    "##### Results and Insights"
   ]
  },
  {
   "cell_type": "markdown",
   "metadata": {},
   "source": [
    "This model behave pretty similar to the SMOTE model which a slight increase in most areas\n",
    "- Accuracy increased from 72.3% to 73.8% \n",
    "- AUC-ROC increased 0.7187 vs 0.7009 the model is slightly better at identifying positive cases\n",
    "- Recall for Class 1 increase to 69% from 65%\n",
    "- Precision for Class 1 increased to 32% from 31% this means the model has slightly fewer false positives among predicted positives.\n",
    "- F1 score increase to 0.44 from 0.42\n",
    "- Even the recall of class 0 increased to 75% from 73%\n",
    "\n",
    "While the increase are modest at best. They are consistent across most metrics"
   ]
  },
  {
   "cell_type": "markdown",
   "metadata": {},
   "source": [
    "##### Feature Importance Analysis and Precision Recall Graph for Optimal Threshold"
   ]
  },
  {
   "cell_type": "code",
   "execution_count": 148,
   "metadata": {},
   "outputs": [
    {
     "name": "stdout",
     "output_type": "stream",
     "text": [
      "\n",
      "Top 10 Most Important Features:\n",
      "                   feature  importance\n",
      "14          origin_encoded          36\n",
      "16  booking_origin_encoded          31\n",
      "2           length_of_stay          21\n",
      "9   sales_channel_Internet          12\n",
      "1            purchase_lead          12\n",
      "6     wants_preferred_seat          10\n",
      "8          flight_duration          10\n",
      "5      wants_extra_baggage           9\n",
      "15     destination_encoded           6\n",
      "7    wants_in_flight_meals           3\n"
     ]
    },
    {
     "data": {
      "image/png": "[encoded data removed]",
      "text/plain": [
       "<Figure size 1000x600 with 1 Axes>"
      ]
     },
     "metadata": {},
     "output_type": "display_data"
    }
   ],
   "source": [
    "# Feature importance\n",
    "feature_importance = pd.DataFrame({\n",
    "    'feature': X.columns,\n",
    "    'importance': model.feature_importance()\n",
    "}).sort_values('importance', ascending=False)\n",
    "\n",
    "print(\"\\nTop 10 Most Important Features:\")\n",
    "print(feature_importance.head(10))\n",
    "\n",
    "# Plot feature importance\n",
    "plt.figure(figsize=(10, 6))\n",
    "plt.bar(feature_importance['feature'][:10], feature_importance['importance'][:10])\n",
    "plt.xticks(rotation=45, ha='right')\n",
    "plt.title('Top 10 Feature Importance - LightGBM')\n",
    "plt.tight_layout()\n",
    "plt.show()"
   ]
  },
  {
   "cell_type": "code",
   "execution_count": 150,
   "metadata": {},
   "outputs": [
    {
     "data": {
      "image/png": "[encoded data removed]",
      "text/plain": [
       "<Figure size 600x400 with 1 Axes>"
      ]
     },
     "metadata": {},
     "output_type": "display_data"
    },
    {
     "name": "stdout",
     "output_type": "stream",
     "text": [
      "\n",
      "Optimal threshold: 0.256\n",
      "At optimal threshold - Precision: 0.324, Recall: 0.695\n"
     ]
    }
   ],
   "source": [
    "# Get prediction probabilities for precision-recall curve\n",
    "y_pred_proba = model.predict(X_test)\n",
    "\n",
    "# Calculate and plot precision-recall curve\n",
    "precision, recall, thresholds = precision_recall_curve(y_test, y_pred_proba)\n",
    "\n",
    "plt.figure(figsize=(6, 4))\n",
    "plt.plot(recall, precision, 'b-', label='Precision-Recall curve')\n",
    "plt.xlabel('Recall')\n",
    "plt.ylabel('Precision')\n",
    "plt.title('Precision-Recall Curve - LightGBM')\n",
    "plt.grid(True)\n",
    "plt.legend()\n",
    "\n",
    "# Find optimal threshold\n",
    "f1_scores = 2 * (precision * recall) / (precision + recall)\n",
    "optimal_idx = np.argmax(f1_scores)\n",
    "optimal_threshold = thresholds[optimal_idx]\n",
    "\n",
    "plt.plot(recall[optimal_idx], precision[optimal_idx], 'ro', \n",
    "         label=f'Optimal Threshold: {optimal_threshold:.2f}')\n",
    "plt.legend()\n",
    "plt.show()\n",
    "\n",
    "print(f\"\\nOptimal threshold: {optimal_threshold:.3f}\")\n",
    "print(f\"At optimal threshold - Precision: {precision[optimal_idx]:.3f}, Recall: {recall[optimal_idx]:.3f}\")"
   ]
  },
  {
   "cell_type": "markdown",
   "metadata": {},
   "source": [
    "#### XGBoost"
   ]
  },
  {
   "cell_type": "markdown",
   "metadata": {},
   "source": [
    "This is a highly optimized gradient boosting framework that sequentially builds decision trees, where each new tree corrects the errors of the previous ones. It uses a more regularized model formalization to prevent overfitting and supports parallel processing."
   ]
  },
  {
   "cell_type": "markdown",
   "metadata": {},
   "source": [
    "##### Modelling"
   ]
  },
  {
   "cell_type": "code",
   "execution_count": 25,
   "metadata": {},
   "outputs": [],
   "source": [
    "# Import required libraries\n",
    "import xgboost as xgb"
   ]
  },
  {
   "cell_type": "code",
   "execution_count": 26,
   "metadata": {},
   "outputs": [
    {
     "name": "stdout",
     "output_type": "stream",
     "text": [
      "[0]\ttrain-logloss:0.66990\ttest-logloss:0.67030\n",
      "[20]\ttrain-logloss:0.54472\ttest-logloss:0.55608\n",
      "[40]\ttrain-logloss:0.52224\ttest-logloss:0.54204\n",
      "[60]\ttrain-logloss:0.50795\ttest-logloss:0.53528\n",
      "[80]\ttrain-logloss:0.49480\ttest-logloss:0.52911\n",
      "[99]\ttrain-logloss:0.48438\ttest-logloss:0.52440\n"
     ]
    }
   ],
   "source": [
    "# Prepare data\n",
    "X = customer_booking_processed.drop('booking_complete', axis=1)\n",
    "y = customer_booking_processed['booking_complete']\n",
    "\n",
    "# Split data\n",
    "X_train, X_test, y_train, y_test = train_test_split(\n",
    "    X, y, \n",
    "    test_size=0.2,\n",
    "    random_state=42,\n",
    "    stratify=y\n",
    ")\n",
    "\n",
    "# Create DMatrix for XGBoost\n",
    "dtrain = xgb.DMatrix(X_train, label=y_train)\n",
    "dtest = xgb.DMatrix(X_test, label=y_test)\n",
    "\n",
    "# Set parameters\n",
    "params = {\n",
    "    'objective': 'binary:logistic',\n",
    "    'eval_metric': 'logloss',\n",
    "    'max_depth': 6,\n",
    "    'eta': 0.1,\n",
    "    'subsample': 0.8,\n",
    "    'colsample_bytree': 0.8,\n",
    "    'min_child_weight': 1,\n",
    "    'scale_pos_weight': len(y_train[y_train==0]) / len(y_train[y_train==1])  # Handle imbalance\n",
    "}\n",
    "\n",
    "# Train model\n",
    "model = xgb.train(\n",
    "    params,\n",
    "    dtrain,\n",
    "    num_boost_round=100,\n",
    "    evals=[(dtrain, 'train'), (dtest, 'test')],\n",
    "    early_stopping_rounds=10,\n",
    "    verbose_eval=20\n",
    ")\n",
    "\n",
    "# Make predictions\n",
    "y_pred_proba = model.predict(dtest)\n",
    "y_pred = (y_pred_proba > 0.5).astype(int)"
   ]
  },
  {
   "cell_type": "code",
   "execution_count": 27,
   "metadata": {},
   "outputs": [
    {
     "name": "stdout",
     "output_type": "stream",
     "text": [
      "\n",
      "==================================================\n",
      "XGBOOST MODEL RESULTS\n",
      "==================================================\n",
      "\n",
      "Accuracy: 0.7140\n",
      "AUC-ROC Score: 0.7302\n",
      "\n",
      "Classification Report:\n",
      "              precision    recall  f1-score   support\n",
      "\n",
      "           0       0.94      0.71      0.81      8504\n",
      "           1       0.31      0.75      0.44      1496\n",
      "\n",
      "    accuracy                           0.71     10000\n",
      "   macro avg       0.63      0.73      0.62     10000\n",
      "weighted avg       0.85      0.71      0.75     10000\n",
      "\n"
     ]
    }
   ],
   "source": [
    "# Print results\n",
    "print(\"\\n\" + \"=\"*50)\n",
    "print(\"XGBOOST MODEL RESULTS\")\n",
    "print(\"=\"*50)\n",
    "\n",
    "print(f\"\\nAccuracy: {accuracy_score(y_test, y_pred):.4f}\")\n",
    "print(f\"AUC-ROC Score: {roc_auc_score(y_test, y_pred):.4f}\")\n",
    "print(\"\\nClassification Report:\")\n",
    "print(classification_report(y_test, y_pred))"
   ]
  },
  {
   "cell_type": "markdown",
   "metadata": {},
   "source": [
    "##### Feature Importance Analysis and Precision Recall Graph for Optimal Threshold"
   ]
  },
  {
   "cell_type": "code",
   "execution_count": null,
   "metadata": {},
   "outputs": [
    {
     "name": "stdout",
     "output_type": "stream",
     "text": [
      "\n",
      "Top 10 Most Important Features:\n",
      "                   feature  importance\n",
      "1            purchase_lead       688.0\n",
      "14          origin_encoded       678.0\n",
      "15     destination_encoded       670.0\n",
      "2           length_of_stay       601.0\n",
      "16  booking_origin_encoded       551.0\n",
      "3              flight_hour       473.0\n",
      "8          flight_duration       296.0\n",
      "4               flight_day       239.0\n",
      "0           num_passengers       182.0\n",
      "5      wants_extra_baggage       107.0\n"
     ]
    },
    {
     "data": {
      "image/png": "[encoded data removed]",
      "text/plain": [
       "<Figure size 1200x600 with 1 Axes>"
      ]
     },
     "metadata": {},
     "output_type": "display_data"
    }
   ],
   "source": [
    "# Get feature importance\n",
    "importance_scores = model.get_score(importance_type='weight')\n",
    "importance_df = pd.DataFrame({\n",
    "    'feature': list(importance_scores.keys()),\n",
    "    'importance': list(importance_scores.values())\n",
    "}).sort_values('importance', ascending=False)\n",
    "\n",
    "print(\"\\nTop 10 Most Important Features:\")\n",
    "print(importance_df.head(10))\n",
    "\n",
    "# Plot feature importance\n",
    "plt.figure(figsize=(12, 6))\n",
    "plt.bar(importance_df['feature'][:10], importance_df['importance'][:10])\n",
    "plt.xticks(rotation=45, ha='right')\n",
    "plt.title('Top 10 Feature Importance - XGBoost')\n",
    "plt.tight_layout()\n",
    "plt.show()"
   ]
  },
  {
   "cell_type": "code",
   "execution_count": null,
   "metadata": {},
   "outputs": [
    {
     "data": {
      "image/png": "[encoded data removed]",
      "text/plain": [
       "<Figure size 1000x600 with 1 Axes>"
      ]
     },
     "metadata": {},
     "output_type": "display_data"
    },
    {
     "name": "stdout",
     "output_type": "stream",
     "text": [
      "\n",
      "Results with Optimal threshold (0.528):\n",
      "\n",
      "Adjusted Accuracy: 0.7298\n",
      "AUC-ROC Score: 0.7274\n",
      "\n",
      "Adjusted Classification Report:\n",
      "              precision    recall  f1-score   support\n",
      "\n",
      "           0       0.94      0.73      0.82      8504\n",
      "           1       0.32      0.72      0.44      1496\n",
      "\n",
      "    accuracy                           0.73     10000\n",
      "   macro avg       0.63      0.73      0.63     10000\n",
      "weighted avg       0.85      0.73      0.77     10000\n",
      "\n"
     ]
    }
   ],
   "source": [
    "# Plot precision-recall curve\n",
    "\n",
    "precision, recall, thresholds = precision_recall_curve(y_test, y_pred_proba)\n",
    "\n",
    "plt.figure(figsize=(10, 6))\n",
    "plt.plot(recall, precision, 'b-', label='Precision-Recall curve')\n",
    "plt.xlabel('Recall')\n",
    "plt.ylabel('Precision')\n",
    "plt.title('Precision-Recall Curve - XGBoost')\n",
    "plt.grid(True)\n",
    "\n",
    "# Find optimal threshold\n",
    "f1_scores = 2 * (precision * recall) / (precision + recall)\n",
    "optimal_idx = np.argmax(f1_scores[~np.isnan(f1_scores)])\n",
    "optimal_threshold = thresholds[optimal_idx]\n",
    "\n",
    "# Add optimal point to plot\n",
    "plt.plot(recall[optimal_idx], precision[optimal_idx], 'ro', \n",
    "         label=f'Optimal Threshold: {optimal_threshold:.2f}')\n",
    "plt.legend()\n",
    "plt.show()\n",
    "\n",
    "# Print results with optimal threshold\n",
    "y_pred_adjusted = (y_pred_proba > optimal_threshold).astype(int)\n",
    "print(f\"\\nResults with Optimal threshold ({optimal_threshold:.3f}):\")\n",
    "print(f\"\\nAdjusted Accuracy: {accuracy_score(y_test, y_pred_adjusted):.4f}\")\n",
    "print(f\"AUC-ROC Score: {roc_auc_score(y_test, y_pred_adjusted):.4f}\")\n",
    "print(\"\\nAdjusted Classification Report:\")\n",
    "print(classification_report(y_test, y_pred_adjusted))"
   ]
  },
  {
   "cell_type": "markdown",
   "metadata": {},
   "source": [
    "##### Insights and Results"
   ]
  },
  {
   "cell_type": "markdown",
   "metadata": {},
   "source": [
    "Compare this model with the LightGBM. This model finds more postive but as a cost of overall accuracy \n",
    "\n",
    "- Accuracy: 73.75% (LightGBM) vs 72.98% (XGBoost) → LightGBM +0.77 pp.\n",
    "\n",
    "- AUC-ROC: 0.7187 (LightGBM) vs 0.7274 (XGBoost) XGBoost slightly better\n",
    "\n",
    "- Recall for Class 1: 69% (LightGBM) vs 72% (XGBoost) → XGBoost finds more positives\n",
    "\n",
    "- Precision and F1 score for Class 1 remained the same\n",
    "\n",
    "- Recall for Class 0: 75% (LightGBM) vs 73% (XGBoost) → LightGBM +2 pp (majority class better identified).\n",
    "\n",
    "- Precision for Class 0: 93% (LightGBM) vs 94% (XGBoost) → Slight increase"
   ]
  },
  {
   "cell_type": "markdown",
   "metadata": {},
   "source": [
    "### Summary\n",
    "The XGBoost model presents a viable solution with strong recall for the critical minority class, balanced precision for the majority class, and overall reasonable accuracy. While the model addresses class imbalance well with parameter tuning and threshold optimization, precision improvements for the minority class and further robustness require additional data, model enhancements, and continual evaluation.\n"
   ]
  },
  {
   "cell_type": "markdown",
   "metadata": {},
   "source": [
    "In summary the Models result was;\n",
    "\n",
    "Overall Model Accuracy: 73%\n",
    "\n",
    "AUC-ROC Score of the Model (The ability of a model to distinguish between positive and negative classes): 73%\n",
    "\n",
    "**Prediction Score (Classification Report):** \n",
    "\n",
    "- Precison: Measures the accuracy of positive predictions (Of all the instances predicted as positive, how many were actually positive)\n",
    "- Recall: Measures the model's ability to find all positive instances (Of all the actual positive instances, how many were correctly predicted as positive?)\n",
    "- F1 Score: Simply the Harmonic Average of Precision and Recall\n",
    "- Support: Indicates the number of actual occurrences of each class in the datase\n",
    "\n",
    "\n",
    "For Class 0 (Not booked)\n",
    "- Precision 94%\n",
    "- Recall 73% \n",
    "- F1 Score: 82%\n",
    "- Support 8504\n",
    "\n",
    "For Class 1 (Booked) (Our Main Aim)\n",
    "- Precision 34%\n",
    "- Recall 72%\n",
    "- F1 score 44%\n",
    "- Support 1496"
   ]
  },
  {
   "cell_type": "markdown",
   "metadata": {},
   "source": [
    "### Recommendations and Future Work"
   ]
  },
  {
   "cell_type": "markdown",
   "metadata": {},
   "source": [
    "- Further Model and Parameter Tuning\n",
    "\n",
    "- Continue hyperparameter optimization via grid search or Bayesian methods on parameters such as max_depth, eta, min_child_weight, and subsampling ratios.\n",
    "\n",
    "- Advanced Feature Engineering"
   ]
  },
  {
   "cell_type": "markdown",
   "metadata": {},
   "source": [
    "**More Data Collection**\n",
    "\n",
    "Acquire additional data targeting the minority class (class 1) to reduce imbalance and better generalize the model’s learning.\n",
    "\n",
    "More balanced data can lead to improved precision and stability.\n",
    "\n",
    "Threshold and Calibration Techniques\n",
    "\n",
    "Regularly revisit optimal threshold tuning as new data arrives."
   ]
  },
  {
   "cell_type": "markdown",
   "metadata": {},
   "source": [
    "**Error Analysis and Monitoring**\n",
    "\n",
    "Analyze cases where the model misclassifies minority class to identify weak spots.\n",
    "\n",
    "Set up monitoring pipelines to track model drift and performance over time in production."
   ]
  },
  {
   "cell_type": "markdown",
   "metadata": {},
   "source": [
    "### Future Work"
   ]
  },
  {
   "cell_type": "markdown",
   "metadata": {},
   "source": [
    "##### Hyperparameter Tuning Using Grid Search"
   ]
  },
  {
   "cell_type": "code",
   "execution_count": null,
   "metadata": {},
   "outputs": [],
   "source": [
    "from sklearn.model_selection import GridSearchCV\n",
    "from sklearn.model_selection import StratifiedKFold"
   ]
  },
  {
   "cell_type": "code",
   "execution_count": null,
   "metadata": {},
   "outputs": [
    {
     "name": "stdout",
     "output_type": "stream",
     "text": [
      "Starting Grid Search with XGBClassifier...\n",
      "Fitting Grid Search (this may take a while)...\n",
      "Fitting 5 folds for each of 972 candidates, totalling 4860 fits\n",
      "\n",
      "Best Parameters: {'colsample_bytree': 0.8, 'learning_rate': 0.01, 'max_depth': 8, 'min_child_weight': 5, 'n_estimators': 200, 'subsample': 0.8}\n",
      "Best Cross-Validation Score (ROC-AUC): 0.7919\n"
     ]
    }
   ],
   "source": [
    "# Your existing data preparation\n",
    "X = customer_booking_processed.drop('booking_complete', axis=1) \n",
    "y = customer_booking_processed['booking_complete'] \n",
    "\n",
    "# Split data \n",
    "X_train, X_test, y_train, y_test = train_test_split( \n",
    "    X, y,  \n",
    "    test_size=0.2, \n",
    "    random_state=42, \n",
    "    stratify=y \n",
    ") \n",
    "\n",
    "# Method 1: Using XGBClassifier with GridSearchCV (Recommended)\n",
    "print(\"Starting Grid Search with XGBClassifier...\")\n",
    "\n",
    "# Initialize XGBClassifier\n",
    "xgb_classifier = xgb.XGBClassifier(\n",
    "    objective='binary:logistic',\n",
    "    eval_metric='logloss',\n",
    "    random_state=42,\n",
    "    scale_pos_weight=len(y_train[y_train==0]) / len(y_train[y_train==1])  # Handle imbalance\n",
    ")\n",
    "\n",
    "# Define parameter grid\n",
    "param_grid = {\n",
    "    'n_estimators': [50, 100, 200],\n",
    "    'max_depth': [3, 4, 6, 8],\n",
    "    'learning_rate': [0.01, 0.1, 0.2],\n",
    "    'subsample': [0.8, 0.9, 1.0],\n",
    "    'colsample_bytree': [0.8, 0.9, 1.0],\n",
    "    'min_child_weight': [1, 3, 5]\n",
    "}\n",
    "\n",
    "# Set up cross-validation\n",
    "cv = StratifiedKFold(n_splits=5, shuffle=True, random_state=42)\n",
    "\n",
    "# Create GridSearchCV\n",
    "grid_search = GridSearchCV(\n",
    "    estimator=xgb_classifier,\n",
    "    param_grid=param_grid,\n",
    "    scoring='roc_auc',  # or 'accuracy', 'f1', etc.\n",
    "    cv=cv,\n",
    "    n_jobs=-1,  # Use all available cores\n",
    "    verbose=1,  # Show progress\n",
    "    return_train_score=True\n",
    ")\n",
    "\n",
    "# Fit grid search\n",
    "print(\"Fitting Grid Search (this may take a while)...\")\n",
    "grid_search.fit(X_train, y_train)\n",
    "\n",
    "# Get best parameters and model\n",
    "best_params = grid_search.best_params_\n",
    "best_model = grid_search.best_estimator_\n",
    "best_score = grid_search.best_score_\n",
    "\n",
    "print(f\"\\nBest Parameters: {best_params}\")\n",
    "print(f\"Best Cross-Validation Score (ROC-AUC): {best_score:.4f}\")\n",
    "\n",
    "# Make predictions with best model\n",
    "y_pred_proba_best = best_model.predict_proba(X_test)[:, 1]\n",
    "y_pred_best = best_model.predict(X_test)"
   ]
  },
  {
   "cell_type": "code",
   "execution_count": null,
   "metadata": {},
   "outputs": [
    {
     "name": "stdout",
     "output_type": "stream",
     "text": [
      "\n",
      "Best Model Performance:\n",
      "Accuracy: 0.7151\n",
      "AUC-ROC Score: 0.7961\n",
      "\n",
      "Classification Report:\n",
      "              precision    recall  f1-score   support\n",
      "\n",
      "           0       0.94      0.71      0.81      8504\n",
      "           1       0.31      0.74      0.44      1496\n",
      "\n",
      "    accuracy                           0.72     10000\n",
      "   macro avg       0.63      0.73      0.62     10000\n",
      "weighted avg       0.85      0.72      0.75     10000\n",
      "\n"
     ]
    }
   ],
   "source": [
    "# Evaluate best model\n",
    "print(f\"\\nBest Model Performance:\")\n",
    "print(f\"Accuracy: {accuracy_score(y_test, y_pred_best):.4f}\")\n",
    "print(f\"AUC-ROC Score: {roc_auc_score(y_test, y_pred_proba_best):.4f}\")\n",
    "print(\"\\nClassification Report:\")\n",
    "print(classification_report(y_test, y_pred_best))"
   ]
  }
 ],
 "metadata": {
  "kernelspec": {
   "display_name": "base",
   "language": "python",
   "name": "python3"
  },
  "language_info": {
   "codemirror_mode": {
    "name": "ipython",
    "version": 3
   },
   "file_extension": ".py",
   "mimetype": "text/x-python",
   "name": "python",
   "nbconvert_exporter": "python",
   "pygments_lexer": "ipython3",
   "version": "3.12.4"
  },
  "orig_nbformat": 4
 },
 "nbformat": 4,
 "nbformat_minor": 2
}
